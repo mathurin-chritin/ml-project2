{
  "cells": [
    {
      "cell_type": "code",
      "execution_count": 52,
      "metadata": {
        "id": "JqSvV8zGgPeM"
      },
      "outputs": [],
      "source": [
        "import torch\n",
        "import numpy as np\n",
        "import torch.nn as nn\n",
        "import matplotlib.pyplot as plt\n",
        "import pandas as pd\n",
        "import os\n",
        "from sklearn.metrics import f1_score"
      ]
    },
    {
      "cell_type": "code",
      "source": [
        "import random\n",
        "random.seed(11)"
      ],
      "metadata": {
        "id": "V-0c89ThIVxS"
      },
      "execution_count": 53,
      "outputs": []
    },
    {
      "cell_type": "code",
      "source": [
        "PREFIX=\"\"\n",
        "BATCH_SIZE = 50000\n",
        "\n",
        "class fCNN(nn.Module):\n",
        "    def __init__(self, input_size, hidden_size, output_size):\n",
        "            super(fCNN, self).__init__()\n",
        "            self.fc1 = nn.Linear(input_size, hidden_size)\n",
        "            self.relu = nn.ReLU()\n",
        "            self.drop = nn.Dropout(p=0.1)\n",
        "            self.fc2 = nn.Linear(hidden_size, hidden_size)\n",
        "            self.fc3 = nn.Linear(hidden_size, hidden_size)\n",
        "            self.fc4 = nn.Linear(hidden_size, output_size)\n",
        "            self.sigmoid = nn.Sigmoid()\n",
        "    def forward(self, x):\n",
        "        x = self.fc1(x)\n",
        "        x= self.drop(x)\n",
        "        x = self.relu(x)\n",
        "        x = self.fc2(x)\n",
        "        x=self.drop(x)\n",
        "        x = self.fc3(x)\n",
        "        x=self.drop(x)\n",
        "        x = self.fc4(x)\n",
        "        x = x.flatten()\n",
        "        x = self.sigmoid(x)\n",
        "        return x\n",
        "\n",
        "def device_type():\n",
        "    if torch.cuda.is_available():\n",
        "        return 'cuda'\n",
        "    elif torch.backends.mps.is_available():\n",
        "        return 'mps'\n",
        "    else:\n",
        "        return 'cpu'\n",
        "device = torch.device(device_type())"
      ],
      "metadata": {
        "colab": {
          "base_uri": "https://localhost:8080/"
        },
        "id": "KVoatVPrg8KH",
        "outputId": "ad730b83-66da-49aa-fb5c-7a78a8450b47"
      },
      "execution_count": 71,
      "outputs": [
        {
          "output_type": "stream",
          "name": "stdout",
          "text": [
            "Drive already mounted at /content/drive/; to attempt to forcibly remount, call drive.mount(\"/content/drive/\", force_remount=True).\n"
          ]
        }
      ]
    },
    {
      "cell_type": "code",
      "source": [
        "#This cell will take long time, it takes our collection of tweeters and\n",
        "#create a dataframe we can use to to train validate and test our model\n",
        "EMBEDDINGS = \"embeddings.txt\"\n",
        "VOCAB = \"vocab.txt\"\n",
        "\n",
        "POS_TWEETS = \"twitter-datasets/train_pos_full.txt\"\n",
        "NEG_TWEETS = \"twitter-datasets/train_neg_full.txt\"\n",
        "TEST_DATA = \"twitter-datasets/test_data.txt\"\n",
        "\n",
        "# parse embeddings\n",
        "vecs = {}\n",
        "with open(EMBEDDINGS, \"r\") as f:\n",
        "    for line in f:\n",
        "        pline = line.rstrip().split(' ')\n",
        "        word = pline[0]\n",
        "        vecs[word] = np.array([float(x) for x in pline[1:]])\n",
        "\n",
        "# parse vocabulary and build an index\n",
        "with open(VOCAB, \"r\") as f:\n",
        "    vocab = {x.rstrip().split(' ')[0]: i for i,x in enumerate(f)}\n",
        "\n",
        "embeddings = np.zeros((len(vocab), len(vecs[list(vecs.keys())[0]])))\n",
        "for w, v in vecs.items():\n",
        "    if w == \"<unk>\":\n",
        "        continue\n",
        "    embeddings[vocab[w], :] = v\n",
        "\n",
        "with open(NEG_TWEETS, \"r\",encoding='utf-8') as f:\n",
        "    n_tweets = [line.rstrip().split() for line in f]\n",
        "with open(POS_TWEETS, \"r\",encoding='utf-8') as f:\n",
        "\n",
        "    p_tweets = [line.rstrip().split() for line in f]\n",
        "\n",
        "testing_tweets = []\n",
        "testing_tweets_ids = []\n",
        "with open(TEST_DATA, \"r\") as f:\n",
        "    for line in f:\n",
        "        parsed_line = line.rstrip().split(',')\n",
        "        testing_tweets.append(','.join(parsed_line[1:]).split())\n",
        "        testing_tweets_ids.append(int(parsed_line[0]))\n",
        "\n",
        "# convert a tweet to an embedding of shape (20,) which is the mean of each embedding of each word.\n",
        "series_train = []\n",
        "series_test = []\n",
        "\n",
        "def load_tweets(tweets_list, series, label=None):\n",
        "    print(\"Loading tweets...\")\n",
        "    i = 0\n",
        "    tot = len(tweets_list)\n",
        "    for tweet in tweets_list:\n",
        "        if i%1000 == 0:\n",
        "            print(f\"{i}/{tot} ({int(i/tot*100)} %)\")\n",
        "        indices = [vocab.get(word, -1) for word in tweet if word in vocab.keys()]\n",
        "        if len(indices) == 0:\n",
        "            tweet_embedding = np.zeros((20,))\n",
        "        else:\n",
        "            tweet_embedding = np.sum(embeddings[indices], axis=0)\n",
        "        serie_dict = {f'f{x+1}': data for x, data in enumerate(tweet_embedding)}\n",
        "        if label is not None:\n",
        "            serie_dict['label'] = label\n",
        "        series.append(pd.Series(serie_dict))\n",
        "        i+=1\n",
        "    return series\n",
        "\n",
        "# add both negative and positive tweets, will be shuffled later\n",
        "series_train = load_tweets(p_tweets, series_train, 1)\n",
        "series_train = load_tweets(n_tweets, series_train, -1)\n",
        "\n",
        "# no label since this is the prediction set\n",
        "series_test = load_tweets(testing_tweets, series_test)\n",
        "\n",
        "# use DataFrames to represent data\n",
        "print(\"Creating DataFrame...\")\n",
        "df_train = pd.DataFrame(series_train)\n",
        "\n",
        "df_test = pd.DataFrame(series_test)\n",
        "df_test[\"index\"] = testing_tweets_ids\n",
        "df_test.set_index(['index'], inplace=True) # keep indexes as in the input file\n",
        "\n",
        "\n",
        "# print last 5 columns of the DataFrames (df_test has no \"label\" column)\n",
        "print(\"Training DataFrame sample\")\n",
        "print(df_train[df_train.columns[-5:]].head(5))\n",
        "print(\"Testing DataFrame sample\")\n",
        "print(df_test[df_test.columns[-5:]].head(5))\n",
        "\n",
        "RANDOM_SEED = 1234\n",
        "# shuffle the dataframe\n",
        "df_train = df_train.sample(n=df_train.shape[0], random_state=RANDOM_SEED)\n",
        "X = df_train[df_train.columns[:-1]]\n",
        "y = df_train[df_train.columns[-1]]\n",
        "X_train, X_test, y_train, y_test = train_test_split(X, y, test_size=0.3, random_state=RANDOM_SEED)\n",
        "X_train.to_csv(\"./input/fc/X_train.csv\", index=False)\n",
        "X_test.to_csv(\"./input/fc/X_test.csv\", index=False)\n",
        "y_train.to_csv(\"./input/fc/y_train.csv\", index=False)\n",
        "y_test.to_csv(\"./input/fc/y_test.csv\", index=False)\n",
        "df_test.to_csv(\"./input/fc/xtestpred.csv\",index=True)"
      ],
      "metadata": {
        "id": "hGe4YeO4e7ef"
      },
      "execution_count": null,
      "outputs": []
    },
    {
      "cell_type": "code",
      "source": [
        "X_traincsv=pd.read_csv(PREFIX+\"./input/fc/X_train.csv\")\n",
        "X_train=(torch.tensor(X_traincsv.values, dtype=torch.float32)).to(device)\n",
        "X_testcsv=pd.read_csv(PREFIX+\"./input/fc/X_test.csv\")\n",
        "X_test=(torch.tensor(X_testcsv.values, dtype=torch.float32)).to(device)\n",
        "Y_traincsv=pd.read_csv(PREFIX+\"./input/fc/y_train.csv\")\n",
        "y_train=(torch.tensor(Y_traincsv.values, dtype=torch.float32)).to(device)\n",
        "Y_testcsv=pd.read_csv(PREFIX+\"./input/fc/y_test.csv\")\n",
        "y_test=(torch.tensor(Y_testcsv.values, dtype=torch.float32)).to(device)\n",
        "X_t=pd.read_csv(PREFIX+'./input/fc/xtestpred.csv')\n",
        "X_t.drop('index', axis=1, inplace=True)\n",
        "X_T=(torch.tensor(X_t.values, dtype=torch.float32)).to(device)"
      ],
      "metadata": {
        "id": "_2CfucBHhINw"
      },
      "execution_count": 72,
      "outputs": []
    },
    {
      "cell_type": "code",
      "source": [
        "def train_loop(X_train, epochs, learning_rate, model, l, y_train):\n",
        "    batch_size = BATCH_SIZE\n",
        "    pred_train=[]\n",
        "    y_train = y_train.type(torch.LongTensor)\n",
        "    y_train[y_train == -1] = 0\n",
        "    o=torch.optim.Adam(model.parameters(), lr=learning_rate)\n",
        "    model.train()\n",
        "    res = {'epoch': [], 'train_loss': []}\n",
        "    for e in range(epochs):\n",
        "        print(f\"Epoch {e+1}\\n-------------------------------\")\n",
        "        running_loss=0\n",
        "        permutation = torch.randperm(X_train.size()[0])\n",
        "        for i in range(0, X_train.size()[0], batch_size):\n",
        "            indices = permutation[i:i+batch_size]\n",
        "            y_train=y_train.view(-1)\n",
        "            batch_x, batch_y = X_train[indices], y_train[indices]\n",
        "            batch_x, batch_y = batch_x.to(device), batch_y.to(device)\n",
        "            outputs = model(batch_x)\n",
        "            pred_train.append(outputs)\n",
        "            o.zero_grad()\n",
        "            loss = l(outputs, batch_y.to(torch.float32))\n",
        "            loss.backward() # backward propagation\n",
        "            o.step() # update the gradient to new gradients\n",
        "            running_loss += loss.item()\n",
        "        running_loss=running_loss/batch_size\n",
        "        res['epoch'].append(e) # populate the dictionary of results\n",
        "        res['train_loss'].append(running_loss)\n",
        "    print(\"Done!\")\n",
        "    res = pd.DataFrame.from_dict(res) # translate the dictionary into a pandas dataframe\n",
        "    res.to_csv(\"./metrics_over_epochs_0{:.5f}.csv\".format(learning_rate), mode = 'w', index = False) # store the results into a *.csv file\n",
        "    return res['train_loss'], pred_train, running_loss\n",
        "\n"
      ],
      "metadata": {
        "id": "lXhbfoeSnBn4"
      },
      "execution_count": 73,
      "outputs": []
    },
    {
      "cell_type": "code",
      "source": [
        "output_size=1\n",
        "p=128*2\n",
        "model1=fCNN(X_train.shape[1],p,output_size)\n",
        "model = model1.to(device)\n",
        "l= torch.nn.BCEWithLogitsLoss()\n",
        "epochs=10\n",
        "learning_rate = np.logspace(-5,-3, 3)\n",
        "plt.figure(figsize=(6, 4))\n",
        "for lr in learning_rate:\n",
        "    print(lr)\n",
        "    x=train_loop(X_train, epochs, lr, model, l, y_train)[0]\n",
        "    plt.plot(np.arange(0,epochs,1),x, label=f'Learning rate = {lr}')\n",
        "    print(\"final error\", x[epochs-1])\n",
        "plt.xlabel('Iteration')\n",
        "plt.ylabel('Error')\n",
        "plt.title('Train Error')\n",
        "plt.grid(True)\n",
        "plt.legend(loc='upper right', title='train loop', fontsize='medium')\n",
        "plt.show()"
      ],
      "metadata": {
        "colab": {
          "base_uri": "https://localhost:8080/",
          "height": 1000
        },
        "id": "n7h5eBW2mHUb",
        "outputId": "50e41d10-7d38-4194-9266-0642952e1bbf"
      },
      "execution_count": 74,
      "outputs": [
        {
          "output_type": "stream",
          "name": "stdout",
          "text": [
            "1e-05\n",
            "Epoch 1\n",
            "-------------------------------\n",
            "Epoch 2\n",
            "-------------------------------\n",
            "Epoch 3\n",
            "-------------------------------\n",
            "Epoch 4\n",
            "-------------------------------\n",
            "Epoch 5\n",
            "-------------------------------\n",
            "Epoch 6\n",
            "-------------------------------\n",
            "Epoch 7\n",
            "-------------------------------\n",
            "Epoch 8\n",
            "-------------------------------\n",
            "Epoch 9\n",
            "-------------------------------\n",
            "Epoch 10\n",
            "-------------------------------\n",
            "Done!\n",
            "final error 0.00046183698296546936\n",
            "0.0001\n",
            "Epoch 1\n",
            "-------------------------------\n",
            "Epoch 2\n",
            "-------------------------------\n",
            "Epoch 3\n",
            "-------------------------------\n",
            "Epoch 4\n",
            "-------------------------------\n",
            "Epoch 5\n",
            "-------------------------------\n",
            "Epoch 6\n",
            "-------------------------------\n",
            "Epoch 7\n",
            "-------------------------------\n",
            "Epoch 8\n",
            "-------------------------------\n",
            "Epoch 9\n",
            "-------------------------------\n",
            "Epoch 10\n",
            "-------------------------------\n",
            "Done!\n",
            "final error 0.00043585321068763736\n",
            "0.001\n",
            "Epoch 1\n",
            "-------------------------------\n",
            "Epoch 2\n",
            "-------------------------------\n",
            "Epoch 3\n",
            "-------------------------------\n",
            "Epoch 4\n",
            "-------------------------------\n",
            "Epoch 5\n",
            "-------------------------------\n",
            "Epoch 6\n",
            "-------------------------------\n",
            "Epoch 7\n",
            "-------------------------------\n",
            "Epoch 8\n",
            "-------------------------------\n",
            "Epoch 9\n",
            "-------------------------------\n",
            "Epoch 10\n",
            "-------------------------------\n",
            "Done!\n",
            "final error 0.0004314309847354889\n"
          ]
        },
        {
          "output_type": "display_data",
          "data": {
            "text/plain": [
              "<Figure size 600x400 with 1 Axes>"
            ],
            "image/png": "[encoded data removed]"
          },
          "metadata": {}
        }
      ]
    },
    {
      "cell_type": "code",
      "execution_count": 75,
      "metadata": {
        "colab": {
          "base_uri": "https://localhost:8080/"
        },
        "id": "m3SX5SuSjiR4",
        "outputId": "3a006fc3-f6fa-4579-de35-aeaca5669dd1"
      },
      "outputs": [
        {
          "output_type": "stream",
          "name": "stdout",
          "text": [
            "tensor([1, 1, 1,  ..., 1, 0, 0], device='cuda:0', dtype=torch.int32)\n",
            "0.7479293333333333\n",
            "Tweet 0\n",
            "Tweet 50000\n",
            "Tweet 100000\n",
            "Tweet 150000\n",
            "Tweet 200000\n",
            "Tweet 250000\n",
            "Tweet 300000\n",
            "Tweet 350000\n",
            "Tweet 400000\n",
            "Tweet 450000\n",
            "Tweet 500000\n",
            "Tweet 550000\n",
            "Tweet 600000\n",
            "Tweet 650000\n",
            "Tweet 700000\n",
            "Tweet 750000\n",
            "Tweet 800000\n",
            "Tweet 850000\n",
            "Tweet 900000\n",
            "Tweet 950000\n",
            "Tweet 1000000\n",
            "Tweet 1050000\n",
            "Tweet 1100000\n",
            "Tweet 1150000\n",
            "Tweet 1200000\n",
            "Tweet 1250000\n",
            "Tweet 1300000\n",
            "Tweet 1350000\n",
            "Tweet 1400000\n",
            "Tweet 1450000\n",
            "Tweet 1500000\n",
            "Tweet 1550000\n",
            "Tweet 1600000\n",
            "Tweet 1650000\n",
            "Tweet 1700000\n"
          ]
        }
      ],
      "source": [
        "def test_loop(X_test,y_test, l, model):\n",
        "    y_test[y_test == -1] = 0\n",
        "    pred_test=[]\n",
        "    batch_size = BATCH_SIZE\n",
        "    test_loss=0\n",
        "    model.eval()\n",
        "    threshold = 0.5\n",
        "    with torch.no_grad():\n",
        "        # loop over all test input-output pairs\n",
        "        permutation = torch.randperm(X_test.size()[0])\n",
        "        for i in range(0, X_test.size()[0], batch_size):\n",
        "            indices = permutation[i:i+batch_size]\n",
        "            batch_x, batch_y = X_test[indices], y_test[indices]\n",
        "            batch_x, batch_y = batch_x.to(device), batch_y.to(device)\n",
        "            outputs = model(batch_x)\n",
        "            pred_test.append(outputs)\n",
        "            loss = l(outputs, batch_y)\n",
        "            sigmoid_outputs = torch.sigmoid(outputs)\n",
        "            binary_predictions = (outputs >= 0.5).float()\n",
        "            test_loss += loss.item()\n",
        "        test_loss=test_loss/batch_size\n",
        "    return test_loss, pred_test, binary_predictions\n",
        "\n",
        "test_loss, y_pred, binary_predictions =test_loop(X_test, y_test.view(-1), l, model)\n",
        "outputs = model(X_test)\n",
        "binary_predictions = (outputs >= 0.5).int()\n",
        "print(binary_predictions)\n",
        "f1_sc = f1_score(y_test.cpu().view(-1), binary_predictions.cpu(), average='micro')\n",
        "print(f1_sc)\n",
        "\n",
        "def test_loop_final(X_test, model):\n",
        "    pred_test=[]\n",
        "    batch_size = BATCH_SIZE\n",
        "    test_loss=0\n",
        "    model.eval()\n",
        "    with torch.no_grad():\n",
        "      # loop over all test input-output pairs\n",
        "        permutation = torch.randperm(X_test.size()[0])\n",
        "        for i in range(0, X_train.size()[0], batch_size):\n",
        "            if i%1000 == 0:\n",
        "                print(f\"Tweet {i}\")\n",
        "            indices = permutation[i:i+batch_size]\n",
        "            batch_x = X_test[indices]\n",
        "            outputs = model(batch_x)\n",
        "            pred_test.append(outputs)\n",
        "    return pred_test\n",
        "\n",
        "y_pred_final =  test_loop_final(X_T, model)\n"
      ]
    },
    {
      "cell_type": "code",
      "source": [
        "f1_sc"
      ],
      "metadata": {
        "colab": {
          "base_uri": "https://localhost:8080/"
        },
        "id": "9-TPGPMyIv8h",
        "outputId": "ed3b801c-9946-43b3-cb81-b5329abbf912"
      },
      "execution_count": 76,
      "outputs": [
        {
          "output_type": "execute_result",
          "data": {
            "text/plain": [
              "0.7479293333333333"
            ]
          },
          "metadata": {},
          "execution_count": 76
        }
      ]
    },
    {
      "cell_type": "code",
      "execution_count": 78,
      "metadata": {
        "colab": {
          "base_uri": "https://localhost:8080/"
        },
        "id": "N1omH7RNgPeV",
        "outputId": "fcfa8d2b-1e17-4a24-c511-d95075fe52cb"
      },
      "outputs": [
        {
          "output_type": "stream",
          "name": "stdout",
          "text": [
            "preds {tensor([0, 0, 0,  ..., 0, 1, 0], dtype=torch.int32)}\n",
            "         Id  Prediction\n",
            "0         1          -1\n",
            "1         2          -1\n",
            "2         3          -1\n",
            "3         4           1\n",
            "4         5          -1\n",
            "...     ...         ...\n",
            "9995   9996           1\n",
            "9996   9997          -1\n",
            "9997   9998          -1\n",
            "9998   9999           1\n",
            "9999  10000          -1\n",
            "\n",
            "[10000 rows x 2 columns]\n",
            "Saving to /content/drive/MyDrive/trains//predictions.csv...\n"
          ]
        }
      ],
      "source": [
        "PREDICTION_FILENAME = PREFIX+\"/predictions.csv\"\n",
        "def make_predictions(X_T, model, filename):\n",
        "    if os.path.exists(filename):\n",
        "        raise Exception(f\"{filename} already exist, comment this line or provide a new filename\")\n",
        "    model.eval()\n",
        "    with torch.no_grad():\n",
        "        outputs = model(X_T)\n",
        "        preds = (outputs >= 0.5).int().cpu()\n",
        "        print(\"preds\", {preds})\n",
        "    df = pd.DataFrame({\"Id\": np.arange(1, preds.shape[0]+1), \"Prediction\": preds})\n",
        "\n",
        "    df[\"Prediction\"] = df[\"Prediction\"].map({0:-1, 1:1}).astype(int)\n",
        "    print(df)\n",
        "    print(f\"Saving to {filename}...\")\n",
        "    df.to_csv(filename, index=False)\n",
        "make_predictions(X_T, model, PREDICTION_FILENAME)"
      ]
    },
    {
      "cell_type": "code",
      "execution_count": null,
      "metadata": {
        "id": "r0LtQYJRgPeW"
      },
      "outputs": [],
      "source": []
    }
  ],
  "metadata": {
    "accelerator": "GPU",
    "colab": {
      "gpuType": "T4",
      "provenance": []
    },
    "kernelspec": {
      "display_name": "Python 3",
      "name": "python3"
    },
    "language_info": {
      "codemirror_mode": {
        "name": "ipython",
        "version": 3
      },
      "file_extension": ".py",
      "mimetype": "text/x-python",
      "name": "python",
      "nbconvert_exporter": "python",
      "pygments_lexer": "ipython3",
      "version": "3.11.3"
    }
  },
  "nbformat": 4,
  "nbformat_minor": 0
}