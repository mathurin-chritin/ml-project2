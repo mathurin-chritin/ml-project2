{
  "cells": [
    {
      "cell_type": "markdown",
      "metadata": {},
      "source": [
        "# Preprocessing\n",
        "\n",
        "Preprocessing is a crucial step. The goal is to convert the tweets to a list of embeddings :\n",
        "\n",
        "```\n",
        "[\"my\", \"tweet\", \"aha\"]\n",
        "```\n",
        "\n",
        "becomes\n",
        "\n",
        "    [<embedding of \"my\" shape (20,)>, <embedding of \"tweet\" shape (20,)>, <embedding of \"aha\" shape (20,)>]\n",
        "\n",
        "Since we have 3 representation for each tweet (original, stemmed and lemmatized), we have to do this 3 times, and then merge the result. \n",
        "\n",
        "Since all tweets do not have the same length, we select empirically a fixed size of a tweet, and apply a 0-padding to shorter tweets.\n",
        "\n",
        "Moreover, for limited memory reasons, the dataset is splitted in 15 blocs of data. \n",
        "\n",
        "This way, we obtain a shape of `(<block_size>, 3, <len_tweet>, <embedding_size>)`."
      ]
    },
    {
      "cell_type": "code",
      "execution_count": 2,
      "metadata": {
        "id": "gWaztWJ_VOSX"
      },
      "outputs": [],
      "source": [
        "import numpy as np\n",
        "import random\n",
        "import pandas as pd\n",
        "from sklearn.model_selection import train_test_split\n",
        "import torch\n",
        "import math\n",
        "import matplotlib.pyplot as plt"
      ]
    },
    {
      "cell_type": "markdown",
      "metadata": {},
      "source": [
        "#### Load the data\n",
        "\n",
        "Change the `SET` variable to one of `{\"\", \"stemmed\", \"lemmatized\"}`."
      ]
    },
    {
      "cell_type": "code",
      "execution_count": 3,
      "metadata": {
        "id": "LPgw53N-VOSZ"
      },
      "outputs": [],
      "source": [
        "PREFIX = \"\"\n",
        "SET=\"stemmed\"\n",
        "EMBEDDINGS = PREFIX+\"tweet_embeddings/embeddings_\"+SET+\".txt\"\n",
        "VOCAB = PREFIX+\"tweet_embeddings/vocab_\"+SET+\".txt\"\n",
        "\n",
        "POS_TWEETS = PREFIX+\"tweet_embeddings/train_pos_full_\"+SET+\".txt\"\n",
        "NEG_TWEETS = PREFIX+\"tweet_embeddings/train_neg_full_\"+SET+\".txt\"\n",
        "TEST_DATA = PREFIX+\"tweet_embeddings/test_data_\"+SET+\".txt\"\n",
        "\n",
        "# parse embeddings\n",
        "vecs = {}\n",
        "with open(EMBEDDINGS, \"r\") as f:\n",
        "    for line in f:\n",
        "        pline = line.rstrip().split(' ')\n",
        "        word = pline[0]\n",
        "        vecs[word] = np.array([float(x) for x in pline[1:]])\n",
        "\n",
        "# parse vocabulary and build an index\n",
        "with open(VOCAB, \"r\") as f:\n",
        "    vocab = {x.rstrip().split(' ')[0]: i for i,x in enumerate(f)}\n",
        "EMBEDDING_SIZE = len(vecs[list(vecs.keys())[0]])\n",
        "embeddings = np.zeros((len(vocab), EMBEDDING_SIZE))\n",
        "for w, v in vecs.items():\n",
        "    if w == \"<unk>\":\n",
        "        continue\n",
        "    embeddings[vocab[w], :] = v\n"
      ]
    },
    {
      "cell_type": "code",
      "execution_count": 4,
      "metadata": {
        "colab": {
          "base_uri": "https://localhost:8080/"
        },
        "id": "ezV7P0pCR920",
        "outputId": "63aa008e-9c05-44d3-8128-20355f8c0146"
      },
      "outputs": [
        {
          "name": "stdout",
          "output_type": "stream",
          "text": [
            "Loaded 2500000 tweets (max len 128)\n"
          ]
        }
      ],
      "source": [
        "len_tweets = []\n",
        "def load_from_file(filename, max_length_tweets):\n",
        "    tweet_list = []\n",
        "    with open(filename, \"r\") as f:\n",
        "        for line in f:\n",
        "            tweet = line.rstrip().split()\n",
        "            l_tweet = len(tweet)\n",
        "            tweet_list.append(tweet)\n",
        "            if l_tweet > max_length_tweets:\n",
        "                #print(f\"{l_tweet}: {tweet}\")\n",
        "                max_length_tweets = len(tweet)\n",
        "            len_tweets.append(l_tweet)\n",
        "    return tweet_list, max_length_tweets\n",
        "\n",
        "max_length_tweets = -1\n",
        "p_tweets, max_length_tweets = load_from_file(POS_TWEETS, max_length_tweets)\n",
        "n_tweets, max_length_tweets = load_from_file(NEG_TWEETS, max_length_tweets)\n",
        "N = len(n_tweets) + len(p_tweets)\n",
        "print(f\"Loaded {N} tweets (max len {max_length_tweets})\")"
      ]
    },
    {
      "cell_type": "code",
      "execution_count": 17,
      "metadata": {
        "colab": {
          "base_uri": "https://localhost:8080/",
          "height": 449
        },
        "id": "-BL6__tCSIb7",
        "outputId": "2c2e067d-19f2-4192-d465-193fbe681539"
      },
      "outputs": [
        {
          "data": {
            "image/png": "[encoded data removed]",
            "text/plain": [
              "<Figure size 640x480 with 1 Axes>"
            ]
          },
          "metadata": {},
          "output_type": "display_data"
        }
      ],
      "source": [
        "# We see that tweets that have a length over 40-60 are very rare.\n",
        "counts, bins = np.histogram(len_tweets, bins=1000)\n",
        "plt.xlabel(f\"Tweet lengths (max={max_length_tweets})\")\n",
        "plt.plot([50] * 100, np.linspace(0, 120000, 100), c='r')\n",
        "plt.yscale(\"log\")\n",
        "plt.ylabel(\"Log occurences\")\n",
        "plt.stairs(counts, bins, color='g')\n",
        "plt.savefig(\"tweet_length_cutoff.png\")"
      ]
    },
    {
      "cell_type": "code",
      "execution_count": null,
      "metadata": {
        "colab": {
          "base_uri": "https://localhost:8080/"
        },
        "id": "uhMxkxopWyyy",
        "outputId": "53a27273-26eb-4b04-a926-ea791c125b29"
      },
      "outputs": [
        {
          "name": "stdout",
          "output_type": "stream",
          "text": [
            "Dropping a few more tweets to equalize lengths (1249918 != 1249935)\n",
            "Dropped 164 tweets of length > 50\n",
            "Total is now 2499836 tweets (+: 1249918, -: 1249918)\n"
          ]
        }
      ],
      "source": [
        "# We thus drop all of them and adjust our max tweet length to avoid memory explosion\n",
        "truncated_length = 50\n",
        "max_length_tweets = truncated_length\n",
        "p_tweets = [t for t in p_tweets if len(t) <= truncated_length]\n",
        "n_tweets = [t for t in n_tweets if len(t) <= truncated_length]\n",
        "if len(p_tweets) != len(n_tweets):\n",
        "    print(f\"Dropping a few more tweets to equalize lengths ({len(p_tweets)} != {len(n_tweets)})\")\n",
        "    min_length = min(len(p_tweets), len(n_tweets))\n",
        "    if len(p_tweets) == min_length:\n",
        "        n_tweets = n_tweets[:min_length]\n",
        "    else:\n",
        "        p_tweets = p_tweets[:min_length]\n",
        "old_N_tweets = N\n",
        "N = (len(p_tweets) + len(n_tweets))\n",
        "print(f\"Dropped {old_N_tweets - N} tweets of length > {truncated_length}\")\n",
        "print(f\"Total is now {N} tweets (+: {len(p_tweets)}, -: {len(n_tweets)})\")"
      ]
    },
    {
      "cell_type": "code",
      "execution_count": null,
      "metadata": {
        "colab": {
          "base_uri": "https://localhost:8080/",
          "height": 467
        },
        "id": "UffXEKLtZR8s",
        "outputId": "0c525e5a-9a55-4d1e-cf8e-af2ebd29eb9e"
      },
      "outputs": [
        {
          "data": {
            "text/plain": [
              "<matplotlib.patches.StepPatch at 0x7924922cd3c0>"
            ]
          },
          "execution_count": 7,
          "metadata": {},
          "output_type": "execute_result"
        },
        {
          "data": {
            "image/png": "[encoded data removed]",
            "text/plain": [
              "<Figure size 640x480 with 1 Axes>"
            ]
          },
          "metadata": {},
          "output_type": "display_data"
        }
      ],
      "source": [
        "counts, bins = np.histogram(len_tweets, bins=1000, range=(0, truncated_length))\n",
        "plt.xlabel(f\"Tweet lengths (max={max_length_tweets})\")\n",
        "plt.stairs(counts, bins, color='g')"
      ]
    },
    {
      "cell_type": "code",
      "execution_count": null,
      "metadata": {
        "id": "5F11ICqxVOSb"
      },
      "outputs": [],
      "source": [
        "testing_tweets = []\n",
        "testing_tweets_ids = []\n",
        "with open(TEST_DATA, \"r\") as f:\n",
        "    for line in f:\n",
        "        parsed_line = line.rstrip().split(',')\n",
        "        tweet = ','.join(parsed_line[1:]).split()\n",
        "        testing_tweets.append(tweet)\n",
        "        testing_tweets_ids.append(int(parsed_line[0]))\n"
      ]
    },
    {
      "cell_type": "code",
      "execution_count": null,
      "metadata": {
        "id": "WRwp2If1luDP"
      },
      "outputs": [],
      "source": [
        "def modified_load_tweets(tweets_list, tensor, start_idx, max_tweet_length, label=None ):\n",
        "    print(\"Loading tweets...\")\n",
        "    i = 0\n",
        "    tot = len(tweets_list)\n",
        "\n",
        "    vocab_keys = set(vocab.keys())\n",
        "    for tweet in tweets_list:\n",
        "        if i % 5000 == 0 or i == tot-1:\n",
        "            print(f\"{i}/{tot} ({int(i/tot*100)} %)\")\n",
        "\n",
        "       # Filter out words not in the vocabulary\n",
        "        tweet_filtered = [word for word in tweet if word in vocab_keys]\n",
        "\n",
        "        embeddings_list_torch = torch.FloatTensor(np.array([embeddings[vocab[word]] for word in tweet_filtered]))\n",
        "\n",
        "        length_tweet=len(tweet_filtered)\n",
        "\n",
        "        diff_length=max_tweet_length - length_tweet\n",
        "\n",
        "        if length_tweet == 0:\n",
        "            tweet_embeddings = torch.zeros((max_tweet_length, len(vecs[list(vecs.keys())[0]])))\n",
        "        else:\n",
        "           tweet_mean = torch.mean(embeddings_list_torch, axis=0)\n",
        "           tweet_embeddings = torch.ones((max_tweet_length, len(vecs[list(vecs.keys())[0]])))*tweet_mean # to have all tweets of shape (#tweets, max_tweet_len, 20)\n",
        "           middle = diff_length//2\n",
        "           if (diff_length%2==0):\n",
        "               tweet_embeddings[middle:max_tweet_length-middle,:] = embeddings_list_torch #putting them in the middle to do some kind of padding\n",
        "           else:\n",
        "               tweet_embeddings[middle:(max_tweet_length-(middle+1)),:] = embeddings_list_torch\n",
        "        if label is not None:\n",
        "            tweet_embeddings = torch.vstack((tweet_embeddings, label*torch.ones(EMBEDDING_SIZE,)))\n",
        "\n",
        "        tensor[start_idx+i] = tweet_embeddings\n",
        "        i += 1\n",
        "    return tensor"
      ]
    },
    {
      "cell_type": "markdown",
      "metadata": {},
      "source": [
        "#### Save back the intermediate blocs to disk\n",
        "\n",
        "We use the `input/cnn/` directory."
      ]
    },
    {
      "cell_type": "code",
      "execution_count": null,
      "metadata": {
        "id": "6wPBYMniukDC"
      },
      "outputs": [],
      "source": [
        "def save_train(torch_series_train, max_tot, batch_n=''):\n",
        "    SAVE_PREFIX = PREFIX + \"input/cnn/\"\n",
        "    SUFFIX = '_'+str(batch_n)+'_full_'+SET+'.pt'\n",
        "\n",
        "    X = torch_series_train[:,:-1]\n",
        "    y = torch_series_train[:,-1][:,0]\n",
        "    RANDOM_SEED = 1234\n",
        "\n",
        "    X_train, X_test, y_train, y_test = train_test_split(X, y, test_size=0.3, random_state=RANDOM_SEED)\n",
        "    torch.save(X_train, SAVE_PREFIX+'X_train_cnn_new'+SUFFIX)\n",
        "    torch.save(X_test, SAVE_PREFIX+'X_test_cnn_new'+SUFFIX)\n",
        "    torch.save(y_train, SAVE_PREFIX+'y_train_cnn_new'+SUFFIX)\n",
        "    torch.save(y_test, SAVE_PREFIX+'y_test_cnn_new'+SUFFIX)\n",
        "    print(\"TRAINING Saved : \\n\"+'\\n'.join([SAVE_PREFIX+'X_train_cnn_new'+SUFFIX,SAVE_PREFIX+'X_test_cnn_new'+SUFFIX,SAVE_PREFIX+'y_train_cnn_new'+SUFFIX,SAVE_PREFIX+'y_test_cnn_new'+SUFFIX]))\n",
        "\n",
        "def save_test(torch_series_test):\n",
        "    SAVE_PREFIX = PREFIX + \"input/cnn/\"\n",
        "    torch.save(torch_series_test, SAVE_PREFIX+'X_T_'+SET+'.pt')\n",
        "    print(\"TESTING Saved : \\n\"+SAVE_PREFIX+'X_T_'+SET+'.pt')\n"
      ]
    },
    {
      "cell_type": "code",
      "execution_count": null,
      "metadata": {
        "colab": {
          "base_uri": "https://localhost:8080/"
        },
        "id": "Nbr_d4vQVOSd",
        "outputId": "6272a887-978f-4910-aec0-e4fd605e7c93"
      },
      "outputs": [
        {
          "name": "stdout",
          "output_type": "stream",
          "text": [
            "50\n"
          ]
        }
      ],
      "source": [
        "test_max_length_tweets = max(len(tweet) for tweet in testing_tweets)\n",
        "assert test_max_length_tweets <= max_length_tweets,  f\"There are testing tweets that are longer than {truncated_length} !\"\n",
        "max_tot=max(test_max_length_tweets, max_length_tweets)\n",
        "print(max_tot)"
      ]
    },
    {
      "cell_type": "code",
      "execution_count": null,
      "metadata": {
        "colab": {
          "base_uri": "https://localhost:8080/"
        },
        "id": "M_5T5G5lb9EI",
        "outputId": "ce4c2371-b27e-425b-ab8c-e1615960fc55"
      },
      "outputs": [
        {
          "name": "stdout",
          "output_type": "stream",
          "text": [
            "n_batches=15\n",
            "Batch sizes: [83328, 83328, 83328, 83328, 83328, 83328, 83328, 83328, 83328, 83328, 83328, 83328, 83328, 83327, 83327]\n"
          ]
        }
      ],
      "source": [
        "assert len(p_tweets) == len(n_tweets), \"To simplify please make them have the same length\"\n",
        "indices = np.arange(len(p_tweets))\n",
        "wanted_batch_size = 80000\n",
        "n_batches = int((N/2)//wanted_batch_size) # N/2 because n_tweets AND p_tweets\n",
        "print(f\"n_batches={n_batches}\")\n",
        "indices_split = np.array_split(indices, n_batches)\n",
        "print(f\"Batch sizes: {[len(a) for a in indices_split]}\")"
      ]
    },
    {
      "cell_type": "code",
      "execution_count": null,
      "metadata": {
        "colab": {
          "base_uri": "https://localhost:8080/"
        },
        "id": "17d5-s_rFyWL",
        "outputId": "8c15aed2-f7ba-4c60-ac17-2c238914c91b"
      },
      "outputs": [
        {
          "name": "stdout",
          "output_type": "stream",
          "text": [
            "Processing batch 12/15: [916608,999936], size=83328\n",
            "Current tensor shape = torch.Size([166656, 51, 20])\n",
            "Loading tweets...\n",
            "0/83328 (0 %)\n",
            "5000/83328 (6 %)\n",
            "10000/83328 (12 %)\n",
            "15000/83328 (18 %)\n",
            "20000/83328 (24 %)\n",
            "25000/83328 (30 %)\n",
            "30000/83328 (36 %)\n",
            "35000/83328 (42 %)\n",
            "40000/83328 (48 %)\n",
            "45000/83328 (54 %)\n",
            "50000/83328 (60 %)\n",
            "55000/83328 (66 %)\n",
            "60000/83328 (72 %)\n",
            "65000/83328 (78 %)\n",
            "70000/83328 (84 %)\n",
            "75000/83328 (90 %)\n",
            "80000/83328 (96 %)\n",
            "83327/83328 (99 %)\n",
            "Loading tweets...\n",
            "0/83328 (0 %)\n",
            "5000/83328 (6 %)\n",
            "10000/83328 (12 %)\n",
            "15000/83328 (18 %)\n",
            "20000/83328 (24 %)\n",
            "25000/83328 (30 %)\n",
            "30000/83328 (36 %)\n",
            "35000/83328 (42 %)\n",
            "40000/83328 (48 %)\n",
            "45000/83328 (54 %)\n",
            "50000/83328 (60 %)\n",
            "55000/83328 (66 %)\n",
            "60000/83328 (72 %)\n",
            "65000/83328 (78 %)\n",
            "70000/83328 (84 %)\n",
            "75000/83328 (90 %)\n",
            "80000/83328 (96 %)\n",
            "83327/83328 (99 %)\n",
            "TRAINING Saved : \n",
            "/content/drive/MyDrive/Colab Notebooks/batches/small/X_train_cnn_new_11_full_stemmed.pt\n",
            "/content/drive/MyDrive/Colab Notebooks/batches/small/X_test_cnn_new_11_full_stemmed.pt\n",
            "/content/drive/MyDrive/Colab Notebooks/batches/small/y_train_cnn_new_11_full_stemmed.pt\n",
            "/content/drive/MyDrive/Colab Notebooks/batches/small/y_test_cnn_new_11_full_stemmed.pt\n",
            "Processing batch 13/15: [999936,1083264], size=83328\n",
            "Current tensor shape = torch.Size([166656, 51, 20])\n",
            "Loading tweets...\n",
            "0/83328 (0 %)\n",
            "5000/83328 (6 %)\n",
            "10000/83328 (12 %)\n",
            "15000/83328 (18 %)\n",
            "20000/83328 (24 %)\n",
            "25000/83328 (30 %)\n",
            "30000/83328 (36 %)\n",
            "35000/83328 (42 %)\n",
            "40000/83328 (48 %)\n",
            "45000/83328 (54 %)\n",
            "50000/83328 (60 %)\n",
            "55000/83328 (66 %)\n",
            "60000/83328 (72 %)\n",
            "65000/83328 (78 %)\n",
            "70000/83328 (84 %)\n",
            "75000/83328 (90 %)\n",
            "80000/83328 (96 %)\n",
            "83327/83328 (99 %)\n",
            "Loading tweets...\n",
            "0/83328 (0 %)\n",
            "5000/83328 (6 %)\n",
            "10000/83328 (12 %)\n",
            "15000/83328 (18 %)\n",
            "20000/83328 (24 %)\n",
            "25000/83328 (30 %)\n",
            "30000/83328 (36 %)\n",
            "35000/83328 (42 %)\n",
            "40000/83328 (48 %)\n",
            "45000/83328 (54 %)\n",
            "50000/83328 (60 %)\n",
            "55000/83328 (66 %)\n",
            "60000/83328 (72 %)\n",
            "65000/83328 (78 %)\n",
            "70000/83328 (84 %)\n",
            "75000/83328 (90 %)\n",
            "80000/83328 (96 %)\n",
            "83327/83328 (99 %)\n",
            "TRAINING Saved : \n",
            "/content/drive/MyDrive/Colab Notebooks/batches/small/X_train_cnn_new_12_full_stemmed.pt\n",
            "/content/drive/MyDrive/Colab Notebooks/batches/small/X_test_cnn_new_12_full_stemmed.pt\n",
            "/content/drive/MyDrive/Colab Notebooks/batches/small/y_train_cnn_new_12_full_stemmed.pt\n",
            "/content/drive/MyDrive/Colab Notebooks/batches/small/y_test_cnn_new_12_full_stemmed.pt\n",
            "Processing batch 14/15: [1083264,1166591], size=83327\n",
            "Current tensor shape = torch.Size([166654, 51, 20])\n",
            "Loading tweets...\n",
            "0/83327 (0 %)\n",
            "5000/83327 (6 %)\n",
            "10000/83327 (12 %)\n",
            "15000/83327 (18 %)\n",
            "20000/83327 (24 %)\n",
            "25000/83327 (30 %)\n",
            "30000/83327 (36 %)\n",
            "35000/83327 (42 %)\n",
            "40000/83327 (48 %)\n",
            "45000/83327 (54 %)\n",
            "50000/83327 (60 %)\n",
            "55000/83327 (66 %)\n",
            "60000/83327 (72 %)\n",
            "65000/83327 (78 %)\n",
            "70000/83327 (84 %)\n",
            "75000/83327 (90 %)\n",
            "80000/83327 (96 %)\n",
            "83326/83327 (99 %)\n",
            "Loading tweets...\n",
            "0/83327 (0 %)\n",
            "5000/83327 (6 %)\n",
            "10000/83327 (12 %)\n",
            "15000/83327 (18 %)\n",
            "20000/83327 (24 %)\n",
            "25000/83327 (30 %)\n",
            "30000/83327 (36 %)\n",
            "35000/83327 (42 %)\n",
            "40000/83327 (48 %)\n",
            "45000/83327 (54 %)\n",
            "50000/83327 (60 %)\n",
            "55000/83327 (66 %)\n",
            "60000/83327 (72 %)\n",
            "65000/83327 (78 %)\n",
            "70000/83327 (84 %)\n",
            "75000/83327 (90 %)\n",
            "80000/83327 (96 %)\n",
            "83326/83327 (99 %)\n",
            "TRAINING Saved : \n",
            "/content/drive/MyDrive/Colab Notebooks/batches/small/X_train_cnn_new_13_full_stemmed.pt\n",
            "/content/drive/MyDrive/Colab Notebooks/batches/small/X_test_cnn_new_13_full_stemmed.pt\n",
            "/content/drive/MyDrive/Colab Notebooks/batches/small/y_train_cnn_new_13_full_stemmed.pt\n",
            "/content/drive/MyDrive/Colab Notebooks/batches/small/y_test_cnn_new_13_full_stemmed.pt\n",
            "Processing batch 15/15: [1166591,1249918], size=83327\n",
            "Current tensor shape = torch.Size([166654, 51, 20])\n",
            "Loading tweets...\n",
            "0/83327 (0 %)\n",
            "5000/83327 (6 %)\n",
            "10000/83327 (12 %)\n",
            "15000/83327 (18 %)\n",
            "20000/83327 (24 %)\n",
            "25000/83327 (30 %)\n",
            "30000/83327 (36 %)\n",
            "35000/83327 (42 %)\n",
            "40000/83327 (48 %)\n",
            "45000/83327 (54 %)\n",
            "50000/83327 (60 %)\n",
            "55000/83327 (66 %)\n",
            "60000/83327 (72 %)\n",
            "65000/83327 (78 %)\n",
            "70000/83327 (84 %)\n",
            "75000/83327 (90 %)\n",
            "80000/83327 (96 %)\n",
            "83326/83327 (99 %)\n",
            "Loading tweets...\n",
            "0/83327 (0 %)\n",
            "5000/83327 (6 %)\n",
            "10000/83327 (12 %)\n",
            "15000/83327 (18 %)\n",
            "20000/83327 (24 %)\n",
            "25000/83327 (30 %)\n",
            "30000/83327 (36 %)\n",
            "35000/83327 (42 %)\n",
            "40000/83327 (48 %)\n",
            "45000/83327 (54 %)\n",
            "50000/83327 (60 %)\n",
            "55000/83327 (66 %)\n",
            "60000/83327 (72 %)\n",
            "65000/83327 (78 %)\n",
            "70000/83327 (84 %)\n",
            "75000/83327 (90 %)\n",
            "80000/83327 (96 %)\n",
            "83326/83327 (99 %)\n",
            "TRAINING Saved : \n",
            "/content/drive/MyDrive/Colab Notebooks/batches/small/X_train_cnn_new_14_full_stemmed.pt\n",
            "/content/drive/MyDrive/Colab Notebooks/batches/small/X_test_cnn_new_14_full_stemmed.pt\n",
            "/content/drive/MyDrive/Colab Notebooks/batches/small/y_train_cnn_new_14_full_stemmed.pt\n",
            "/content/drive/MyDrive/Colab Notebooks/batches/small/y_test_cnn_new_14_full_stemmed.pt\n",
            "CPU times: user 20min 17s, sys: 13.2 s, total: 20min 30s\n",
            "Wall time: 21min 33s\n"
          ]
        }
      ],
      "source": [
        "%%time\n",
        "for idx, batch in enumerate(indices_split):\n",
        "    if idx < 11:\n",
        "        continue\n",
        "    curr_batch_size = len(batch)\n",
        "    start = batch[0]\n",
        "    stop = batch[-1]\n",
        "    print(f\"Processing batch {idx+1}/{n_batches}: [{start},{stop+1}], size={curr_batch_size}\")\n",
        "    series_train = torch.zeros((curr_batch_size*2, max_tot+1, EMBEDDING_SIZE)) # +1 for label\n",
        "    print(f\"Current tensor shape = {series_train.shape}\")\n",
        "    series_train = modified_load_tweets(p_tweets[start:stop+1], series_train, 0, max_tot, 1)\n",
        "    series_train = modified_load_tweets(n_tweets[start:stop+1], series_train, curr_batch_size, max_tot, -1)\n",
        "    save_train(series_train, max_tot, idx)\n",
        "    del series_train"
      ]
    },
    {
      "cell_type": "code",
      "execution_count": null,
      "metadata": {
        "colab": {
          "base_uri": "https://localhost:8080/"
        },
        "id": "mc0-ZOAOFzkR",
        "outputId": "ce7473cb-98ac-4e44-c014-233ad5550a5d"
      },
      "outputs": [
        {
          "name": "stdout",
          "output_type": "stream",
          "text": [
            "Loading tweets...\n",
            "0/10000 (0 %)\n",
            "5000/10000 (50 %)\n",
            "9999/10000 (99 %)\n",
            "TESTING Saved : \n",
            "/content/drive/MyDrive/Colab Notebooks/batches/small/X_T_stemmed.pt\n"
          ]
        }
      ],
      "source": [
        "# no label since this is the prediction set\n",
        "series_test = torch.zeros((len(testing_tweets), max_tot, EMBEDDING_SIZE))\n",
        "series_test = modified_load_tweets(testing_tweets, series_test, 0, max_tot)\n",
        "save_test(series_test)"
      ]
    },
    {
      "cell_type": "code",
      "execution_count": null,
      "metadata": {
        "id": "_sMjyluN21jS"
      },
      "outputs": [],
      "source": [
        "# test load a batch\n",
        "y_train_1 = torch.load(PREFIX+\"batches/small/y_train_cnn_new_1_full_lemmatized.pt\")"
      ]
    },
    {
      "cell_type": "code",
      "execution_count": null,
      "metadata": {
        "colab": {
          "base_uri": "https://localhost:8080/"
        },
        "id": "xawjM7053FFR",
        "outputId": "f04ea57b-d0e6-426c-a06b-ac1b562ce344"
      },
      "outputs": [
        {
          "name": "stdout",
          "output_type": "stream",
          "text": [
            "torch.Size([116659])\n"
          ]
        },
        {
          "data": {
            "text/plain": [
              "tensor([ 1.,  1.,  1.,  ...,  1., -1., -1.])"
            ]
          },
          "execution_count": 35,
          "metadata": {},
          "output_type": "execute_result"
        }
      ],
      "source": [
        "print(y_train_1.shape)\n",
        "y_train_1"
      ]
    },
    {
      "cell_type": "markdown",
      "metadata": {},
      "source": [
        "## Merge the 3 datasets in a single 3-channels bloc\n",
        "\n",
        "We now want to convert 3 tensors of shape `(<bloc_size>, 50, 20)` in a single tensor of shape `(<bloc_size>, 3, 50, 20)`."
      ]
    },
    {
      "cell_type": "code",
      "execution_count": null,
      "metadata": {},
      "outputs": [],
      "source": [
        "PREFIX = \"input/cnn/\"\n",
        "\n",
        "MATRICES = [\"X_train\", \"X_test\"]\n",
        "SUFFIXES = [\".pt\", \"_stemmed.pt\", \"_lemmatized.pt\"]\n",
        "\n",
        "for mat in MATRICES:\n",
        "    for i in range(15):  # n batches\n",
        "        print(f\"Merging for {PREFIX}{mat}_cnn_new_{i}_full\")\n",
        "        X_1 = torch.load(f\"{PREFIX}{mat}_cnn_new_{i}_full{SUFFIXES[0]}\")\n",
        "        X_2 = torch.load(f\"{PREFIX}{mat}_cnn_new_{i}_full{SUFFIXES[1]}\")\n",
        "        X_3 = torch.load(f\"{PREFIX}{mat}_cnn_new_{i}_full{SUFFIXES[2]}\")\n",
        "        X_merged = torch.swapaxes(torch.stack((X_1, X_2, X_3), 0), 0, 1)\n",
        "        print(\"Final shape\", X_merged.shape)\n",
        "        torch.save(X_merged, f\"{PREFIX}{mat}_cnn_new_{i}_full_3CH.pt\")"
      ]
    },
    {
      "cell_type": "code",
      "execution_count": null,
      "metadata": {},
      "outputs": [
        {
          "name": "stdout",
          "output_type": "stream",
          "text": [
            "Merging for /content/drive/MyDrive/Colab Notebooks/batches/small/X_T\n",
            "Final shape torch.Size([10000, 3, 50, 20])\n",
            "/content/drive/MyDrive/Colab Notebooks/batches/small/X_T_3CH.pt\n"
          ]
        }
      ],
      "source": [
        "MATRICE = \"X_T\"\n",
        "SUFFIXES = [\".pt\", \"_stemmed.pt\", \"_lemmatized.pt\"]\n",
        "\n",
        "print(f\"Merging for {PREFIX}{MATRICE}\")\n",
        "X_1 = torch.load(f\"{PREFIX}{MATRICE}{SUFFIXES[0]}\")\n",
        "X_2 = torch.load(f\"{PREFIX}{MATRICE}{SUFFIXES[1]}\")\n",
        "X_3 = torch.load(f\"{PREFIX}{MATRICE}{SUFFIXES[2]}\")\n",
        "X_merged = torch.swapaxes(torch.stack((X_1, X_2, X_3), 0), 0, 1)\n",
        "print(\"Final shape\", X_merged.shape)\n",
        "print(f\"{PREFIX}{MATRICE}_3CH.pt\")\n",
        "torch.save(X_merged, f\"{PREFIX}{MATRICE}_3CH.pt\")"
      ]
    },
    {
      "cell_type": "code",
      "execution_count": null,
      "metadata": {},
      "outputs": [
        {
          "name": "stdout",
          "output_type": "stream",
          "text": [
            "tensor([[-0.5729,  0.0571, -1.1008, -0.6668,  0.0385, -2.1303,  0.5006,  0.4607,\n",
            "         -1.7266, -0.1912,  0.1504,  0.3255,  0.1144,  0.6374, -0.6799, -0.3823,\n",
            "         -0.0302, -0.0718, -0.3527, -1.6619],\n",
            "        [-0.5729,  0.0571, -1.1008, -0.6668,  0.0385, -2.1303,  0.5006,  0.4607,\n",
            "         -1.7266, -0.1912,  0.1504,  0.3255,  0.1144,  0.6374, -0.6799, -0.3823,\n",
            "         -0.0302, -0.0718, -0.3527, -1.6619],\n",
            "        [-0.5729,  0.0571, -1.1008, -0.6668,  0.0385, -2.1303,  0.5006,  0.4607,\n",
            "         -1.7266, -0.1912,  0.1504,  0.3255,  0.1144,  0.6374, -0.6799, -0.3823,\n",
            "         -0.0302, -0.0718, -0.3527, -1.6619],\n",
            "        [-0.5729,  0.0571, -1.1008, -0.6668,  0.0385, -2.1303,  0.5006,  0.4607,\n",
            "         -1.7266, -0.1912,  0.1504,  0.3255,  0.1144,  0.6374, -0.6799, -0.3823,\n",
            "         -0.0302, -0.0718, -0.3527, -1.6619],\n",
            "        [-0.5729,  0.0571, -1.1008, -0.6668,  0.0385, -2.1303,  0.5006,  0.4607,\n",
            "         -1.7266, -0.1912,  0.1504,  0.3255,  0.1144,  0.6374, -0.6799, -0.3823,\n",
            "         -0.0302, -0.0718, -0.3527, -1.6619],\n",
            "        [-0.5729,  0.0571, -1.1008, -0.6668,  0.0385, -2.1303,  0.5006,  0.4607,\n",
            "         -1.7266, -0.1912,  0.1504,  0.3255,  0.1144,  0.6374, -0.6799, -0.3823,\n",
            "         -0.0302, -0.0718, -0.3527, -1.6619],\n",
            "        [-0.5729,  0.0571, -1.1008, -0.6668,  0.0385, -2.1303,  0.5006,  0.4607,\n",
            "         -1.7266, -0.1912,  0.1504,  0.3255,  0.1144,  0.6374, -0.6799, -0.3823,\n",
            "         -0.0302, -0.0718, -0.3527, -1.6619],\n",
            "        [-0.5729,  0.0571, -1.1008, -0.6668,  0.0385, -2.1303,  0.5006,  0.4607,\n",
            "         -1.7266, -0.1912,  0.1504,  0.3255,  0.1144,  0.6374, -0.6799, -0.3823,\n",
            "         -0.0302, -0.0718, -0.3527, -1.6619],\n",
            "        [-0.5729,  0.0571, -1.1008, -0.6668,  0.0385, -2.1303,  0.5006,  0.4607,\n",
            "         -1.7266, -0.1912,  0.1504,  0.3255,  0.1144,  0.6374, -0.6799, -0.3823,\n",
            "         -0.0302, -0.0718, -0.3527, -1.6619],\n",
            "        [-0.5729,  0.0571, -1.1008, -0.6668,  0.0385, -2.1303,  0.5006,  0.4607,\n",
            "         -1.7266, -0.1912,  0.1504,  0.3255,  0.1144,  0.6374, -0.6799, -0.3823,\n",
            "         -0.0302, -0.0718, -0.3527, -1.6619],\n",
            "        [-0.5729,  0.0571, -1.1008, -0.6668,  0.0385, -2.1303,  0.5006,  0.4607,\n",
            "         -1.7266, -0.1912,  0.1504,  0.3255,  0.1144,  0.6374, -0.6799, -0.3823,\n",
            "         -0.0302, -0.0718, -0.3527, -1.6619],\n",
            "        [-0.5729,  0.0571, -1.1008, -0.6668,  0.0385, -2.1303,  0.5006,  0.4607,\n",
            "         -1.7266, -0.1912,  0.1504,  0.3255,  0.1144,  0.6374, -0.6799, -0.3823,\n",
            "         -0.0302, -0.0718, -0.3527, -1.6619],\n",
            "        [-0.5729,  0.0571, -1.1008, -0.6668,  0.0385, -2.1303,  0.5006,  0.4607,\n",
            "         -1.7266, -0.1912,  0.1504,  0.3255,  0.1144,  0.6374, -0.6799, -0.3823,\n",
            "         -0.0302, -0.0718, -0.3527, -1.6619],\n",
            "        [-0.5729,  0.0571, -1.1008, -0.6668,  0.0385, -2.1303,  0.5006,  0.4607,\n",
            "         -1.7266, -0.1912,  0.1504,  0.3255,  0.1144,  0.6374, -0.6799, -0.3823,\n",
            "         -0.0302, -0.0718, -0.3527, -1.6619],\n",
            "        [-0.5729,  0.0571, -1.1008, -0.6668,  0.0385, -2.1303,  0.5006,  0.4607,\n",
            "         -1.7266, -0.1912,  0.1504,  0.3255,  0.1144,  0.6374, -0.6799, -0.3823,\n",
            "         -0.0302, -0.0718, -0.3527, -1.6619],\n",
            "        [-0.5729,  0.0571, -1.1008, -0.6668,  0.0385, -2.1303,  0.5006,  0.4607,\n",
            "         -1.7266, -0.1912,  0.1504,  0.3255,  0.1144,  0.6374, -0.6799, -0.3823,\n",
            "         -0.0302, -0.0718, -0.3527, -1.6619],\n",
            "        [-0.5729,  0.0571, -1.1008, -0.6668,  0.0385, -2.1303,  0.5006,  0.4607,\n",
            "         -1.7266, -0.1912,  0.1504,  0.3255,  0.1144,  0.6374, -0.6799, -0.3823,\n",
            "         -0.0302, -0.0718, -0.3527, -1.6619],\n",
            "        [-0.2591, -0.5373, -1.2538, -0.6489, -0.4565, -0.8632,  0.8968,  1.0623,\n",
            "         -1.7189,  0.5518, -0.6713,  0.1666,  0.1302,  0.3133, -0.0289, -0.0206,\n",
            "          0.3879, -0.1528,  0.0425, -1.6434],\n",
            "        [-0.8541,  0.3898, -1.2707, -0.1752,  1.2031, -3.4458,  0.2912,  0.2534,\n",
            "         -2.2624, -0.7640,  0.0380,  0.3969,  0.7690,  1.0318, -0.8413, -1.4769,\n",
            "         -0.4560,  0.2314, -0.2472, -2.0005],\n",
            "        [-1.0260,  0.6187, -0.8726, -2.4777,  0.8914, -4.3667,  0.2872,  1.5941,\n",
            "         -1.0541, -1.2764,  0.2872,  2.0564,  0.5171,  0.6995, -0.6776,  0.9779,\n",
            "         -0.7231,  0.7766, -0.0225, -1.2447],\n",
            "        [-0.5991, -0.7280, -1.4387,  0.3429,  0.4993, -1.2832,  0.4679, -0.6363,\n",
            "         -0.4657,  0.4806,  0.5266,  0.6484, -0.3149,  0.4796, -0.0099,  0.1008,\n",
            "          0.3012, -0.6628, -1.0019, -0.7344],\n",
            "        [-0.5427,  0.1062, -1.4823, -1.0757,  0.1826, -3.0723,  0.7721,  0.9497,\n",
            "         -2.1720,  0.2225,  0.6557, -0.2974, -0.1940,  0.3236, -0.7594, -1.1314,\n",
            "          0.2833, -0.7531, -0.5893, -2.7025],\n",
            "        [-0.9545, -0.4248, -1.9964, -1.2824, -0.1862, -1.8000,  0.0618,  1.0849,\n",
            "         -1.5374,  0.4174, -0.0429,  0.2393, -0.3887,  0.3090, -0.3069,  0.3495,\n",
            "          0.0755, -1.1553, -0.3857, -2.8993],\n",
            "        [ 0.4929, -0.2257, -0.8131,  0.0723,  0.6250, -2.1195, -0.0581,  1.3053,\n",
            "         -1.8477,  0.5165, -0.9824, -0.7131, -0.8568,  0.5935, -0.8436, -0.2382,\n",
            "          0.4645,  0.1174, -0.6055, -2.1227],\n",
            "        [-1.4312, -0.2205, -1.8566, -1.3596, -0.3199, -3.3824,  0.5774, -0.0107,\n",
            "         -3.0690, -0.9184,  0.7749,  0.6684,  0.2670,  1.6508, -1.4379, -1.8252,\n",
            "         -0.4649, -0.1143, -0.4947, -1.2697],\n",
            "        [-0.4615,  0.3648,  0.0772, -0.1801, -0.2129,  0.0197,  0.4624,  0.0427,\n",
            "         -0.5077,  0.3406, -0.1530,  0.6778,  0.2450,  0.0428, -1.0774, -1.1722,\n",
            "         -0.0194, -0.2124, -0.0201, -0.7075],\n",
            "        [ 0.1213,  0.1473, -0.0866, -0.6576, -0.8750, -1.9081,  0.5522,  0.5735,\n",
            "         -2.3339, -0.6459,  0.3836, -0.7405, -0.2297,  0.7034, -1.2255, -1.0774,\n",
            "          1.0585,  1.1075, -0.1163, -2.1867],\n",
            "        [-0.5513,  1.1720, -1.3168, -1.1153,  0.3913, -3.1101,  0.6633,  1.0085,\n",
            "         -2.0099, -1.6527, -0.0407,  1.0012,  1.0118,  0.2890,  0.0179,  1.1479,\n",
            "         -1.3891,  0.4548,  0.1161, -1.8938],\n",
            "        [-0.3549, -0.1204,  0.4850,  0.4008, -0.0517,  0.1626,  0.5522, -0.2275,\n",
            "         -0.3976,  0.1194, -0.5078,  0.1486,  0.4750,  0.0492, -0.3321,  0.3682,\n",
            "          0.9720, -0.3832, -0.5072, -0.2798],\n",
            "        [-0.2407,  0.2842, -1.2735, -0.3322, -0.5092, -0.1842,  1.0939, -0.5798,\n",
            "         -1.8897,  0.2125, -0.0773,  0.7190,  0.0447,  0.1324, -0.3590,  0.4572,\n",
            "         -0.1331, -0.4606, -0.1830, -1.3550],\n",
            "        [-1.4312, -0.2205, -1.8566, -1.3596, -0.3199, -3.3824,  0.5774, -0.0107,\n",
            "         -3.0690, -0.9184,  0.7749,  0.6684,  0.2670,  1.6508, -1.4379, -1.8252,\n",
            "         -0.4649, -0.1143, -0.4947, -1.2697],\n",
            "        [-0.5007,  0.2509, -1.5570, -0.1539, -0.2844, -3.2184,  0.3111,  0.5018,\n",
            "         -1.5646,  0.4464,  1.2908, -0.7577, -0.0268,  1.2924, -0.8792, -0.3696,\n",
            "         -0.3461,  0.2443, -0.7812, -2.6189],\n",
            "        [-0.5729,  0.0571, -1.1008, -0.6668,  0.0385, -2.1303,  0.5006,  0.4607,\n",
            "         -1.7266, -0.1912,  0.1504,  0.3255,  0.1144,  0.6374, -0.6799, -0.3823,\n",
            "         -0.0302, -0.0718, -0.3527, -1.6619],\n",
            "        [-0.5729,  0.0571, -1.1008, -0.6668,  0.0385, -2.1303,  0.5006,  0.4607,\n",
            "         -1.7266, -0.1912,  0.1504,  0.3255,  0.1144,  0.6374, -0.6799, -0.3823,\n",
            "         -0.0302, -0.0718, -0.3527, -1.6619],\n",
            "        [-0.5729,  0.0571, -1.1008, -0.6668,  0.0385, -2.1303,  0.5006,  0.4607,\n",
            "         -1.7266, -0.1912,  0.1504,  0.3255,  0.1144,  0.6374, -0.6799, -0.3823,\n",
            "         -0.0302, -0.0718, -0.3527, -1.6619],\n",
            "        [-0.5729,  0.0571, -1.1008, -0.6668,  0.0385, -2.1303,  0.5006,  0.4607,\n",
            "         -1.7266, -0.1912,  0.1504,  0.3255,  0.1144,  0.6374, -0.6799, -0.3823,\n",
            "         -0.0302, -0.0718, -0.3527, -1.6619],\n",
            "        [-0.5729,  0.0571, -1.1008, -0.6668,  0.0385, -2.1303,  0.5006,  0.4607,\n",
            "         -1.7266, -0.1912,  0.1504,  0.3255,  0.1144,  0.6374, -0.6799, -0.3823,\n",
            "         -0.0302, -0.0718, -0.3527, -1.6619],\n",
            "        [-0.5729,  0.0571, -1.1008, -0.6668,  0.0385, -2.1303,  0.5006,  0.4607,\n",
            "         -1.7266, -0.1912,  0.1504,  0.3255,  0.1144,  0.6374, -0.6799, -0.3823,\n",
            "         -0.0302, -0.0718, -0.3527, -1.6619],\n",
            "        [-0.5729,  0.0571, -1.1008, -0.6668,  0.0385, -2.1303,  0.5006,  0.4607,\n",
            "         -1.7266, -0.1912,  0.1504,  0.3255,  0.1144,  0.6374, -0.6799, -0.3823,\n",
            "         -0.0302, -0.0718, -0.3527, -1.6619],\n",
            "        [-0.5729,  0.0571, -1.1008, -0.6668,  0.0385, -2.1303,  0.5006,  0.4607,\n",
            "         -1.7266, -0.1912,  0.1504,  0.3255,  0.1144,  0.6374, -0.6799, -0.3823,\n",
            "         -0.0302, -0.0718, -0.3527, -1.6619],\n",
            "        [-0.5729,  0.0571, -1.1008, -0.6668,  0.0385, -2.1303,  0.5006,  0.4607,\n",
            "         -1.7266, -0.1912,  0.1504,  0.3255,  0.1144,  0.6374, -0.6799, -0.3823,\n",
            "         -0.0302, -0.0718, -0.3527, -1.6619],\n",
            "        [-0.5729,  0.0571, -1.1008, -0.6668,  0.0385, -2.1303,  0.5006,  0.4607,\n",
            "         -1.7266, -0.1912,  0.1504,  0.3255,  0.1144,  0.6374, -0.6799, -0.3823,\n",
            "         -0.0302, -0.0718, -0.3527, -1.6619],\n",
            "        [-0.5729,  0.0571, -1.1008, -0.6668,  0.0385, -2.1303,  0.5006,  0.4607,\n",
            "         -1.7266, -0.1912,  0.1504,  0.3255,  0.1144,  0.6374, -0.6799, -0.3823,\n",
            "         -0.0302, -0.0718, -0.3527, -1.6619],\n",
            "        [-0.5729,  0.0571, -1.1008, -0.6668,  0.0385, -2.1303,  0.5006,  0.4607,\n",
            "         -1.7266, -0.1912,  0.1504,  0.3255,  0.1144,  0.6374, -0.6799, -0.3823,\n",
            "         -0.0302, -0.0718, -0.3527, -1.6619],\n",
            "        [-0.5729,  0.0571, -1.1008, -0.6668,  0.0385, -2.1303,  0.5006,  0.4607,\n",
            "         -1.7266, -0.1912,  0.1504,  0.3255,  0.1144,  0.6374, -0.6799, -0.3823,\n",
            "         -0.0302, -0.0718, -0.3527, -1.6619],\n",
            "        [-0.5729,  0.0571, -1.1008, -0.6668,  0.0385, -2.1303,  0.5006,  0.4607,\n",
            "         -1.7266, -0.1912,  0.1504,  0.3255,  0.1144,  0.6374, -0.6799, -0.3823,\n",
            "         -0.0302, -0.0718, -0.3527, -1.6619],\n",
            "        [-0.5729,  0.0571, -1.1008, -0.6668,  0.0385, -2.1303,  0.5006,  0.4607,\n",
            "         -1.7266, -0.1912,  0.1504,  0.3255,  0.1144,  0.6374, -0.6799, -0.3823,\n",
            "         -0.0302, -0.0718, -0.3527, -1.6619],\n",
            "        [-0.5729,  0.0571, -1.1008, -0.6668,  0.0385, -2.1303,  0.5006,  0.4607,\n",
            "         -1.7266, -0.1912,  0.1504,  0.3255,  0.1144,  0.6374, -0.6799, -0.3823,\n",
            "         -0.0302, -0.0718, -0.3527, -1.6619],\n",
            "        [-0.5729,  0.0571, -1.1008, -0.6668,  0.0385, -2.1303,  0.5006,  0.4607,\n",
            "         -1.7266, -0.1912,  0.1504,  0.3255,  0.1144,  0.6374, -0.6799, -0.3823,\n",
            "         -0.0302, -0.0718, -0.3527, -1.6619],\n",
            "        [-0.5729,  0.0571, -1.1008, -0.6668,  0.0385, -2.1303,  0.5006,  0.4607,\n",
            "         -1.7266, -0.1912,  0.1504,  0.3255,  0.1144,  0.6374, -0.6799, -0.3823,\n",
            "         -0.0302, -0.0718, -0.3527, -1.6619]])\n"
          ]
        }
      ],
      "source": [
        "ref = X_1[1]\n",
        "print(ref)"
      ]
    },
    {
      "cell_type": "code",
      "execution_count": null,
      "metadata": {},
      "outputs": [
        {
          "data": {
            "text/plain": [
              "tensor(True)"
            ]
          },
          "metadata": {},
          "output_type": "display_data"
        }
      ],
      "source": [
        "torch.all(torch.eq(ref, torch.stack((X_1, X_2, X_3), 0)[0][1]))"
      ]
    },
    {
      "cell_type": "markdown",
      "metadata": {},
      "source": [
        "This is to test that the transformation applied correctly."
      ]
    },
    {
      "cell_type": "code",
      "execution_count": null,
      "metadata": {},
      "outputs": [
        {
          "data": {
            "text/plain": [
              "tensor(True)"
            ]
          },
          "metadata": {},
          "output_type": "display_data"
        }
      ],
      "source": [
        "transformed = torch.swapaxes(torch.stack((X_1, X_2, X_3), 0), 0, 1)\n",
        "torch.all(torch.eq(ref, transformed[1][0]))"
      ]
    },
    {
      "cell_type": "markdown",
      "metadata": {},
      "source": [
        "The dataset is now ready for use ! The files we are interested in are the following :\n",
        "\n",
        "\n",
        "```bash\n",
        "input/cnn/\n",
        "├── X_T_3CH.pt  # this holds the unlabeled data we have to predict\n",
        "├── X_test_cnn_new_{0-15}_full_3CH.pt\n",
        "├── X_train_cnn_new_{0-15}_full_3CH.pt\n",
        "├── y_test_cnn_new_{0-15}_full.pt\n",
        "└── y_train_cnn_new_{0-15}_full.pt\n",
        "```\n"
      ]
    }
  ],
  "metadata": {
    "colab": {
      "provenance": []
    },
    "kernelspec": {
      "display_name": "Python 3",
      "name": "python3"
    },
    "language_info": {
      "codemirror_mode": {
        "name": "ipython",
        "version": 3
      },
      "file_extension": ".py",
      "mimetype": "text/x-python",
      "name": "python",
      "nbconvert_exporter": "python",
      "pygments_lexer": "ipython3",
      "version": "3.11.6"
    }
  },
  "nbformat": 4,
  "nbformat_minor": 0
}
