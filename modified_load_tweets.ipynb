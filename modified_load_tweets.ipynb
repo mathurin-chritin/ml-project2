{
  "cells": [
    {
      "cell_type": "code",
      "execution_count": 1,
      "metadata": {
        "colab": {
          "base_uri": "https://localhost:8080/"
        },
        "id": "9UXXBJoAWa1a",
        "outputId": "dfac8301-cc56-41ad-a68c-e491b944616d"
      },
      "outputs": [],
      "source": [
        "#from google.colab import drive\n",
        "#drive.mount('/content/drive')"
      ]
    },
    {
      "cell_type": "code",
      "execution_count": 2,
      "metadata": {
        "id": "gWaztWJ_VOSX"
      },
      "outputs": [],
      "source": [
        "import numpy as np\n",
        "import random\n",
        "import pandas as pd\n",
        "from sklearn.model_selection import train_test_split\n",
        "import torch\n",
        "import math\n",
        "import matplotlib.pyplot as plt"
      ]
    },
    {
      "cell_type": "code",
      "execution_count": 3,
      "metadata": {
        "id": "LPgw53N-VOSZ"
      },
      "outputs": [],
      "source": [
        "# lire données\n",
        "\n",
        "PREFIX = \"/content/drive/MyDrive/Colab Notebooks/\"\n",
        "PREFIX = \"./\"\n",
        "SET=\"lemmatized\"\n",
        "EMBEDDINGS = PREFIX+\"embeddings_\"+SET+\".txt\"\n",
        "VOCAB = PREFIX+\"vocab_\"+SET+\".txt\"\n",
        "\n",
        "POS_TWEETS = PREFIX+\"twitter-datasets/train_pos_full_\"+SET+\".txt\"\n",
        "NEG_TWEETS = PREFIX+\"twitter-datasets/train_neg_full_\"+SET+\".txt\"\n",
        "TEST_DATA = PREFIX+\"twitter-datasets/test_data_\"+SET+\".txt\"\n",
        "\n",
        "# parse embeddings\n",
        "vecs = {}\n",
        "with open(EMBEDDINGS, \"r\") as f:\n",
        "    for line in f:\n",
        "        pline = line.rstrip().split(' ')\n",
        "        word = pline[0]\n",
        "        vecs[word] = np.array([float(x) for x in pline[1:]])\n",
        "\n",
        "# parse vocabulary and build an index\n",
        "with open(VOCAB, \"r\") as f:\n",
        "    vocab = {x.rstrip().split(' ')[0]: i for i,x in enumerate(f)}\n",
        "EMBEDDING_SIZE = len(vecs[list(vecs.keys())[0]])\n",
        "embeddings = np.zeros((len(vocab), EMBEDDING_SIZE))\n",
        "for w, v in vecs.items():\n",
        "    if w == \"<unk>\":\n",
        "        continue\n",
        "    embeddings[vocab[w], :] = v\n"
      ]
    },
    {
      "cell_type": "code",
      "execution_count": 4,
      "metadata": {
        "colab": {
          "base_uri": "https://localhost:8080/"
        },
        "id": "ezV7P0pCR920",
        "outputId": "2b079938-09aa-4dbe-85eb-6a6d197586a7"
      },
      "outputs": [
        {
          "name": "stdout",
          "output_type": "stream",
          "text": [
            "Loaded 2500000 tweets (max len 128)\n"
          ]
        }
      ],
      "source": [
        "len_tweets = []\n",
        "def load_from_file(filename, max_length_tweets):\n",
        "    tweet_list = []\n",
        "    with open(filename, \"r\") as f:\n",
        "        for line in f:\n",
        "            tweet = line.rstrip().split()\n",
        "            l_tweet = len(tweet)\n",
        "            tweet_list.append(tweet)\n",
        "            if l_tweet > max_length_tweets:\n",
        "                #print(f\"{l_tweet}: {tweet}\")\n",
        "                max_length_tweets = len(tweet)\n",
        "            len_tweets.append(l_tweet)\n",
        "    return tweet_list, max_length_tweets\n",
        "\n",
        "max_length_tweets = -1\n",
        "p_tweets, max_length_tweets = load_from_file(POS_TWEETS, max_length_tweets)\n",
        "n_tweets, max_length_tweets = load_from_file(NEG_TWEETS, max_length_tweets)\n",
        "N = len(n_tweets) + len(p_tweets)\n",
        "print(f\"Loaded {N} tweets (max len {max_length_tweets})\")"
      ]
    },
    {
      "cell_type": "code",
      "execution_count": 5,
      "metadata": {
        "colab": {
          "base_uri": "https://localhost:8080/",
          "height": 467
        },
        "id": "-BL6__tCSIb7",
        "outputId": "04131e4e-2071-4dc4-8db8-67a56adcd41c"
      },
      "outputs": [
        {
          "data": {
            "text/plain": [
              "<matplotlib.patches.StepPatch at 0x7f11f2d7bfd0>"
            ]
          },
          "execution_count": 5,
          "metadata": {},
          "output_type": "execute_result"
        },
        {
          "data": {
            "image/png": "[encoded data removed]",
            "text/plain": [
              "<Figure size 640x480 with 1 Axes>"
            ]
          },
          "metadata": {},
          "output_type": "display_data"
        }
      ],
      "source": [
        "# We see that tweets that have a length over 40-60 are very rare.\n",
        "counts, bins = np.histogram(len_tweets, bins=1000)\n",
        "plt.xlabel(f\"Tweet lengths (max={max_length_tweets})\")\n",
        "plt.stairs(counts, bins, color='g')"
      ]
    },
    {
      "cell_type": "code",
      "execution_count": 6,
      "metadata": {
        "colab": {
          "base_uri": "https://localhost:8080/"
        },
        "id": "uhMxkxopWyyy",
        "outputId": "95160e2d-0361-4467-fe19-7b8b0b5f16f1"
      },
      "outputs": [
        {
          "name": "stdout",
          "output_type": "stream",
          "text": [
            "Dropping a few more tweets to equalize lengths (1249918 != 1249935)\n",
            "Dropped 164 tweets of length > 50\n",
            "Total is now 2499836 tweets (+: 1249918, -: 1249918)\n"
          ]
        }
      ],
      "source": [
        "# We thus drop all of them and adjust our max tweet length to avoid memory explosion\n",
        "truncated_length = 50\n",
        "max_length_tweets = truncated_length\n",
        "p_tweets = [t for t in p_tweets if len(t) <= truncated_length]\n",
        "n_tweets = [t for t in n_tweets if len(t) <= truncated_length]\n",
        "if len(p_tweets) != len(n_tweets):\n",
        "    print(f\"Dropping a few more tweets to equalize lengths ({len(p_tweets)} != {len(n_tweets)})\")\n",
        "    min_length = min(len(p_tweets), len(n_tweets))\n",
        "    if len(p_tweets) == min_length:\n",
        "        n_tweets = n_tweets[:min_length]\n",
        "    else:\n",
        "        p_tweets = p_tweets[:min_length]\n",
        "old_N_tweets = N\n",
        "N = (len(p_tweets) + len(n_tweets))\n",
        "print(f\"Dropped {old_N_tweets - N} tweets of length > {truncated_length}\")\n",
        "print(f\"Total is now {N} tweets (+: {len(p_tweets)}, -: {len(n_tweets)})\")"
      ]
    },
    {
      "cell_type": "code",
      "execution_count": 7,
      "metadata": {
        "colab": {
          "base_uri": "https://localhost:8080/",
          "height": 467
        },
        "id": "UffXEKLtZR8s",
        "outputId": "c03a8f48-ff1b-4279-ab44-d3058b5ca2ab"
      },
      "outputs": [
        {
          "data": {
            "text/plain": [
              "<matplotlib.patches.StepPatch at 0x7f11f2d77090>"
            ]
          },
          "execution_count": 7,
          "metadata": {},
          "output_type": "execute_result"
        },
        {
          "data": {
            "image/png": "[encoded data removed]",
            "text/plain": [
              "<Figure size 640x480 with 1 Axes>"
            ]
          },
          "metadata": {},
          "output_type": "display_data"
        }
      ],
      "source": [
        "counts, bins = np.histogram(len_tweets, bins=1000, range=(0, truncated_length))\n",
        "plt.xlabel(f\"Tweet lengths (max={max_length_tweets})\")\n",
        "plt.stairs(counts, bins, color='g')"
      ]
    },
    {
      "cell_type": "code",
      "execution_count": 8,
      "metadata": {
        "id": "5F11ICqxVOSb"
      },
      "outputs": [],
      "source": [
        "testing_tweets = []\n",
        "testing_tweets_ids = []\n",
        "with open(TEST_DATA, \"r\") as f:\n",
        "    for line in f:\n",
        "        parsed_line = line.rstrip().split(',')\n",
        "        tweet = ','.join(parsed_line[1:]).split()\n",
        "        testing_tweets.append(tweet)\n",
        "        testing_tweets_ids.append(int(parsed_line[0]))\n"
      ]
    },
    {
      "cell_type": "code",
      "execution_count": 9,
      "metadata": {
        "id": "WRwp2If1luDP"
      },
      "outputs": [],
      "source": [
        "def modified_load_tweets(tweets_list, tensor, start_idx, max_tweet_length, label=None ):\n",
        "    print(\"Loading tweets...\")\n",
        "    i = 0\n",
        "    tot = len(tweets_list)\n",
        "\n",
        "    vocab_keys = set(vocab.keys())\n",
        "    for tweet in tweets_list:\n",
        "        if i % 5000 == 0 or i == tot-1:\n",
        "            print(f\"{i}/{tot} ({int(i/tot*100)} %)\")\n",
        "\n",
        "       # Filter out words not in the vocabulary\n",
        "        tweet_filtered = [word for word in tweet if word in vocab_keys]\n",
        "\n",
        "        embeddings_list_torch = torch.FloatTensor(np.array([embeddings[vocab[word]] for word in tweet_filtered]))\n",
        "\n",
        "        length_tweet=len(tweet_filtered)\n",
        "\n",
        "        diff_length=max_tweet_length - length_tweet\n",
        "\n",
        "        if length_tweet == 0:\n",
        "            tweet_embeddings = torch.zeros((max_tweet_length, len(vecs[list(vecs.keys())[0]])))\n",
        "        else:\n",
        "           tweet_mean = torch.mean(embeddings_list_torch, axis=0)\n",
        "           tweet_embeddings = torch.ones((max_tweet_length, len(vecs[list(vecs.keys())[0]])))*tweet_mean # to have all tweets of shape (#tweets, max_tweet_len, 20)\n",
        "           middle = diff_length//2\n",
        "           if (diff_length%2==0):\n",
        "               tweet_embeddings[middle:max_tweet_length-middle,:] = embeddings_list_torch #putting them in the middle to do some kind of padding\n",
        "           else:\n",
        "               tweet_embeddings[middle:(max_tweet_length-(middle+1)),:] = embeddings_list_torch\n",
        "        if label is not None:\n",
        "            tweet_embeddings = torch.vstack((tweet_embeddings, label*torch.ones(EMBEDDING_SIZE,)))\n",
        "\n",
        "        tensor[start_idx+i] = tweet_embeddings\n",
        "        i += 1\n",
        "    return tensor"
      ]
    },
    {
      "cell_type": "code",
      "execution_count": 10,
      "metadata": {
        "id": "6wPBYMniukDC"
      },
      "outputs": [],
      "source": [
        "def save_train(torch_series_train, max_tot, batch_n=''):\n",
        "    SAVE_PREFIX = PREFIX + \"batches/small/\"\n",
        "    SUFFIX = '_'+str(batch_n)+'_full_'+SET+'.pt'\n",
        "\n",
        "    X = torch_series_train[:,:-1]\n",
        "    y = torch_series_train[:,-1][:,0]\n",
        "    RANDOM_SEED = 1234\n",
        "\n",
        "    # X_flattened = X.view(X.size(0), -1)\n",
        "    X_train, X_test, y_train, y_test = train_test_split(X, y, test_size=0.3, random_state=RANDOM_SEED)\n",
        "    # X_train = X_train.view(X_train.size(0), max_tot, EMBEDDING_SIZE)\n",
        "    # X_test = X_test.view(X_test.size(0), max_tot, EMBEDDING_SIZE)\n",
        "    torch.save(X_train, SAVE_PREFIX+'X_train_cnn_new'+SUFFIX)\n",
        "    torch.save(X_test, SAVE_PREFIX+'X_test_cnn_new'+SUFFIX)\n",
        "    torch.save(y_train, SAVE_PREFIX+'y_train_cnn_new'+SUFFIX)\n",
        "    torch.save(y_test, SAVE_PREFIX+'y_test_cnn_new'+SUFFIX)\n",
        "    print(\"TRAINING Saved : \\n\"+'\\n'.join([SAVE_PREFIX+'X_train_cnn_new'+SUFFIX,SAVE_PREFIX+'X_test_cnn_new'+SUFFIX,SAVE_PREFIX+'y_train_cnn_new'+SUFFIX,SAVE_PREFIX+'y_test_cnn_new'+SUFFIX]))\n",
        "\n",
        "def save_test(torch_series_test):\n",
        "    SAVE_PREFIX = PREFIX + \"batches/\"\n",
        "    torch.save(torch_series_test, SAVE_PREFIX+'X_T_'+SET+'.pt')\n",
        "    print(\"TESTING Saved : \\n\"+SAVE_PREFIX+'X_T_'+SET+'.pt')\n"
      ]
    },
    {
      "cell_type": "code",
      "execution_count": 11,
      "metadata": {
        "colab": {
          "base_uri": "https://localhost:8080/"
        },
        "id": "Nbr_d4vQVOSd",
        "outputId": "2de061e0-2279-455c-e4b4-03f33e9ea289"
      },
      "outputs": [
        {
          "name": "stdout",
          "output_type": "stream",
          "text": [
            "50\n"
          ]
        }
      ],
      "source": [
        "test_max_length_tweets = max(len(tweet) for tweet in testing_tweets)\n",
        "assert test_max_length_tweets <= max_length_tweets,  f\"There are testing tweets that are longer than {truncated_length} !\"\n",
        "max_tot=max(test_max_length_tweets, max_length_tweets)\n",
        "print(max_tot)\n"
      ]
    },
    {
      "cell_type": "code",
      "execution_count": 12,
      "metadata": {
        "colab": {
          "base_uri": "https://localhost:8080/"
        },
        "id": "M_5T5G5lb9EI",
        "outputId": "9ccf3628-65f1-478e-c5fd-0211c3d1b0e8"
      },
      "outputs": [
        {
          "name": "stdout",
          "output_type": "stream",
          "text": [
            "n_batches=1249\n",
            "Batch sizes: [1001, 1001, 1001, 1001, 1001, 1001, 1001, 1001, 1001, 1001, 1001, 1001, 1001, 1001, 1001, 1001, 1001, 1001, 1001, 1001, 1001, 1001, 1001, 1001, 1001, 1001, 1001, 1001, 1001, 1001, 1001, 1001, 1001, 1001, 1001, 1001, 1001, 1001, 1001, 1001, 1001, 1001, 1001, 1001, 1001, 1001, 1001, 1001, 1001, 1001, 1001, 1001, 1001, 1001, 1001, 1001, 1001, 1001, 1001, 1001, 1001, 1001, 1001, 1001, 1001, 1001, 1001, 1001, 1001, 1001, 1001, 1001, 1001, 1001, 1001, 1001, 1001, 1001, 1001, 1001, 1001, 1001, 1001, 1001, 1001, 1001, 1001, 1001, 1001, 1001, 1001, 1001, 1001, 1001, 1001, 1001, 1001, 1001, 1001, 1001, 1001, 1001, 1001, 1001, 1001, 1001, 1001, 1001, 1001, 1001, 1001, 1001, 1001, 1001, 1001, 1001, 1001, 1001, 1001, 1001, 1001, 1001, 1001, 1001, 1001, 1001, 1001, 1001, 1001, 1001, 1001, 1001, 1001, 1001, 1001, 1001, 1001, 1001, 1001, 1001, 1001, 1001, 1001, 1001, 1001, 1001, 1001, 1001, 1001, 1001, 1001, 1001, 1001, 1001, 1001, 1001, 1001, 1001, 1001, 1001, 1001, 1001, 1001, 1001, 1001, 1001, 1001, 1001, 1001, 1001, 1001, 1001, 1001, 1001, 1001, 1001, 1001, 1001, 1001, 1001, 1001, 1001, 1001, 1001, 1001, 1001, 1001, 1001, 1001, 1001, 1001, 1001, 1001, 1001, 1001, 1001, 1001, 1001, 1001, 1001, 1001, 1001, 1001, 1001, 1001, 1001, 1001, 1001, 1001, 1001, 1001, 1001, 1001, 1001, 1001, 1001, 1001, 1001, 1001, 1001, 1001, 1001, 1001, 1001, 1001, 1001, 1001, 1001, 1001, 1001, 1001, 1001, 1001, 1001, 1001, 1001, 1001, 1001, 1001, 1001, 1001, 1001, 1001, 1001, 1001, 1001, 1001, 1001, 1001, 1001, 1001, 1001, 1001, 1001, 1001, 1001, 1001, 1001, 1001, 1001, 1001, 1001, 1001, 1001, 1001, 1001, 1001, 1001, 1001, 1001, 1001, 1001, 1001, 1001, 1001, 1001, 1001, 1001, 1001, 1001, 1001, 1001, 1001, 1001, 1001, 1001, 1001, 1001, 1001, 1001, 1001, 1001, 1001, 1001, 1001, 1001, 1001, 1001, 1001, 1001, 1001, 1001, 1001, 1001, 1001, 1001, 1001, 1001, 1001, 1001, 1001, 1001, 1001, 1001, 1001, 1001, 1001, 1001, 1001, 1001, 1001, 1001, 1001, 1001, 1001, 1001, 1001, 1001, 1001, 1001, 1001, 1001, 1001, 1001, 1001, 1001, 1001, 1001, 1001, 1001, 1001, 1001, 1001, 1001, 1001, 1001, 1001, 1001, 1001, 1001, 1001, 1001, 1001, 1001, 1001, 1001, 1001, 1001, 1001, 1001, 1001, 1001, 1001, 1001, 1001, 1001, 1001, 1001, 1001, 1001, 1001, 1001, 1001, 1001, 1001, 1001, 1001, 1001, 1001, 1001, 1001, 1001, 1001, 1001, 1001, 1001, 1001, 1001, 1001, 1001, 1001, 1001, 1001, 1001, 1001, 1001, 1001, 1001, 1001, 1001, 1001, 1001, 1001, 1001, 1001, 1001, 1001, 1001, 1001, 1001, 1001, 1001, 1001, 1001, 1001, 1001, 1001, 1001, 1001, 1001, 1001, 1001, 1001, 1001, 1001, 1001, 1001, 1001, 1001, 1001, 1001, 1001, 1001, 1001, 1001, 1001, 1001, 1001, 1001, 1001, 1001, 1001, 1001, 1001, 1001, 1001, 1001, 1001, 1001, 1001, 1001, 1001, 1001, 1001, 1001, 1001, 1001, 1001, 1001, 1001, 1001, 1001, 1001, 1001, 1001, 1001, 1001, 1001, 1001, 1001, 1001, 1001, 1001, 1001, 1001, 1001, 1001, 1001, 1001, 1001, 1001, 1001, 1001, 1001, 1001, 1001, 1001, 1001, 1001, 1001, 1001, 1001, 1001, 1001, 1001, 1001, 1001, 1001, 1001, 1001, 1001, 1001, 1001, 1001, 1001, 1001, 1001, 1001, 1001, 1001, 1001, 1001, 1001, 1001, 1001, 1001, 1001, 1001, 1001, 1001, 1001, 1001, 1001, 1001, 1001, 1001, 1001, 1001, 1001, 1001, 1001, 1001, 1001, 1001, 1001, 1001, 1001, 1001, 1001, 1001, 1001, 1001, 1001, 1001, 1001, 1001, 1001, 1001, 1001, 1001, 1001, 1001, 1001, 1001, 1001, 1001, 1001, 1001, 1001, 1001, 1001, 1001, 1001, 1001, 1001, 1001, 1001, 1001, 1001, 1001, 1001, 1001, 1001, 1001, 1001, 1001, 1001, 1001, 1001, 1001, 1001, 1001, 1001, 1001, 1001, 1001, 1001, 1001, 1001, 1001, 1001, 1001, 1001, 1001, 1001, 1001, 1001, 1001, 1001, 1001, 1001, 1001, 1001, 1001, 1001, 1001, 1001, 1001, 1001, 1001, 1001, 1001, 1001, 1001, 1001, 1001, 1001, 1001, 1001, 1001, 1001, 1001, 1001, 1001, 1001, 1001, 1001, 1001, 1001, 1001, 1001, 1001, 1001, 1001, 1001, 1001, 1001, 1001, 1001, 1001, 1001, 1001, 1001, 1001, 1001, 1001, 1001, 1001, 1001, 1001, 1001, 1001, 1001, 1001, 1001, 1001, 1001, 1001, 1001, 1001, 1001, 1001, 1001, 1001, 1001, 1001, 1001, 1001, 1001, 1001, 1001, 1001, 1001, 1001, 1001, 1001, 1001, 1001, 1001, 1001, 1001, 1001, 1001, 1001, 1001, 1001, 1001, 1001, 1001, 1001, 1001, 1001, 1001, 1001, 1001, 1001, 1001, 1001, 1001, 1001, 1001, 1001, 1001, 1001, 1001, 1001, 1001, 1001, 1001, 1001, 1001, 1001, 1001, 1001, 1001, 1001, 1001, 1001, 1001, 1001, 1001, 1001, 1001, 1001, 1001, 1001, 1001, 1001, 1001, 1001, 1001, 1001, 1001, 1001, 1001, 1001, 1001, 1001, 1001, 1001, 1001, 1001, 1001, 1001, 1001, 1001, 1001, 1001, 1001, 1001, 1001, 1001, 1001, 1001, 1001, 1001, 1001, 1001, 1001, 1001, 1001, 1001, 1001, 1001, 1001, 1001, 1001, 1001, 1001, 1001, 1001, 1001, 1001, 1001, 1001, 1001, 1001, 1001, 1001, 1001, 1001, 1001, 1001, 1001, 1001, 1001, 1001, 1001, 1001, 1001, 1001, 1001, 1001, 1001, 1001, 1001, 1001, 1001, 1001, 1001, 1001, 1001, 1001, 1001, 1001, 1001, 1001, 1001, 1001, 1001, 1001, 1001, 1001, 1001, 1001, 1001, 1001, 1001, 1001, 1001, 1001, 1001, 1001, 1001, 1001, 1001, 1001, 1001, 1001, 1001, 1001, 1001, 1001, 1001, 1001, 1001, 1001, 1001, 1001, 1001, 1001, 1001, 1001, 1001, 1001, 1001, 1001, 1001, 1001, 1001, 1001, 1001, 1001, 1001, 1001, 1001, 1001, 1001, 1001, 1001, 1001, 1001, 1001, 1001, 1001, 1001, 1001, 1001, 1001, 1001, 1001, 1001, 1001, 1001, 1001, 1001, 1001, 1001, 1001, 1001, 1001, 1001, 1001, 1001, 1001, 1001, 1001, 1001, 1001, 1001, 1001, 1001, 1001, 1001, 1001, 1001, 1001, 1001, 1001, 1001, 1001, 1001, 1001, 1001, 1001, 1001, 1001, 1001, 1001, 1001, 1001, 1001, 1001, 1001, 1001, 1001, 1001, 1001, 1000, 1000, 1000, 1000, 1000, 1000, 1000, 1000, 1000, 1000, 1000, 1000, 1000, 1000, 1000, 1000, 1000, 1000, 1000, 1000, 1000, 1000, 1000, 1000, 1000, 1000, 1000, 1000, 1000, 1000, 1000, 1000, 1000, 1000, 1000, 1000, 1000, 1000, 1000, 1000, 1000, 1000, 1000, 1000, 1000, 1000, 1000, 1000, 1000, 1000, 1000, 1000, 1000, 1000, 1000, 1000, 1000, 1000, 1000, 1000, 1000, 1000, 1000, 1000, 1000, 1000, 1000, 1000, 1000, 1000, 1000, 1000, 1000, 1000, 1000, 1000, 1000, 1000, 1000, 1000, 1000, 1000, 1000, 1000, 1000, 1000, 1000, 1000, 1000, 1000, 1000, 1000, 1000, 1000, 1000, 1000, 1000, 1000, 1000, 1000, 1000, 1000, 1000, 1000, 1000, 1000, 1000, 1000, 1000, 1000, 1000, 1000, 1000, 1000, 1000, 1000, 1000, 1000, 1000, 1000, 1000, 1000, 1000, 1000, 1000, 1000, 1000, 1000, 1000, 1000, 1000, 1000, 1000, 1000, 1000, 1000, 1000, 1000, 1000, 1000, 1000, 1000, 1000, 1000, 1000, 1000, 1000, 1000, 1000, 1000, 1000, 1000, 1000, 1000, 1000, 1000, 1000, 1000, 1000, 1000, 1000, 1000, 1000, 1000, 1000, 1000, 1000, 1000, 1000, 1000, 1000, 1000, 1000, 1000, 1000, 1000, 1000, 1000, 1000, 1000, 1000, 1000, 1000, 1000, 1000, 1000, 1000, 1000, 1000, 1000, 1000, 1000, 1000, 1000, 1000, 1000, 1000, 1000, 1000, 1000, 1000, 1000, 1000, 1000, 1000, 1000, 1000, 1000, 1000, 1000, 1000, 1000, 1000, 1000, 1000, 1000, 1000, 1000, 1000, 1000, 1000, 1000, 1000, 1000, 1000, 1000, 1000, 1000, 1000, 1000, 1000, 1000, 1000, 1000, 1000, 1000, 1000, 1000, 1000, 1000, 1000, 1000, 1000, 1000, 1000, 1000, 1000, 1000, 1000, 1000, 1000, 1000, 1000, 1000, 1000, 1000, 1000, 1000, 1000, 1000, 1000, 1000, 1000, 1000, 1000, 1000, 1000, 1000, 1000, 1000, 1000, 1000, 1000, 1000, 1000, 1000, 1000, 1000, 1000, 1000, 1000, 1000, 1000, 1000, 1000, 1000, 1000, 1000, 1000, 1000, 1000, 1000, 1000, 1000, 1000, 1000, 1000, 1000, 1000, 1000, 1000, 1000, 1000, 1000, 1000, 1000, 1000, 1000, 1000, 1000, 1000, 1000, 1000, 1000, 1000, 1000, 1000, 1000, 1000, 1000, 1000, 1000, 1000, 1000, 1000, 1000, 1000, 1000, 1000, 1000, 1000]\n"
          ]
        }
      ],
      "source": [
        "assert len(p_tweets) == len(n_tweets), \"To simplify please make them have the same length\"\n",
        "indices = np.arange(len(p_tweets))\n",
        "wanted_batch_size = 1000\n",
        "n_batches = int((N/2)//wanted_batch_size) # N/2 because n_tweets AND p_tweets\n",
        "print(f\"n_batches={n_batches}\")\n",
        "indices_split = np.array_split(indices, n_batches)\n",
        "print(f\"Batch sizes: {[len(a) for a in indices_split]}\")"
      ]
    },
    {
      "cell_type": "code",
      "execution_count": 14,
      "metadata": {
        "colab": {
          "base_uri": "https://localhost:8080/"
        },
        "id": "17d5-s_rFyWL",
        "outputId": "e2355cce-35a0-4b87-c8e0-6f8d6f8940d7"
      },
      "outputs": [
        {
          "name": "stdout",
          "output_type": "stream",
          "text": [
            "Processing batch 1/1249: [0,1001], size=1001\n",
            "Current tensor shape = torch.Size([2002, 51, 20])\n",
            "Loading tweets...\n",
            "0/1001 (0 %)\n",
            "1000/1001 (99 %)\n",
            "Loading tweets...\n",
            "0/1001 (0 %)\n",
            "1000/1001 (99 %)\n",
            "TRAINING Saved : \n",
            "./batches/small/X_train_cnn_new_0_full_lemmatized.pt\n",
            "./batches/small/X_test_cnn_new_0_full_lemmatized.pt\n",
            "./batches/small/y_train_cnn_new_0_full_lemmatized.pt\n",
            "./batches/small/y_test_cnn_new_0_full_lemmatized.pt\n"
          ]
        }
      ],
      "source": [
        "for idx, batch in enumerate(indices_split):\n",
        "    curr_batch_size = len(batch)\n",
        "    start = batch[0]\n",
        "    stop = batch[-1]\n",
        "    print(f\"Processing batch {idx+1}/{n_batches}: [{start},{stop+1}], size={curr_batch_size}\")\n",
        "    series_train = torch.zeros((curr_batch_size*2, max_tot+1, EMBEDDING_SIZE)) # +1 for label\n",
        "    print(f\"Current tensor shape = {series_train.shape}\")\n",
        "    series_train = modified_load_tweets(p_tweets[start:stop+1], series_train, 0, max_tot, 1)\n",
        "    series_train = modified_load_tweets(n_tweets[start:stop+1], series_train, curr_batch_size, max_tot, -1)\n",
        "    save_train(series_train, max_tot, idx)\n",
        "    del series_train\n",
        "    break"
      ]
    },
    {
      "cell_type": "code",
      "execution_count": null,
      "metadata": {
        "colab": {
          "base_uri": "https://localhost:8080/"
        },
        "id": "mc0-ZOAOFzkR",
        "outputId": "aeb161cc-2f97-414f-bcf9-f15605d8fada"
      },
      "outputs": [
        {
          "name": "stdout",
          "output_type": "stream",
          "text": [
            "Loading tweets...\n",
            "0/10000 (0 %)\n",
            "5000/10000 (50 %)\n",
            "TESTING Saved : \n",
            "/content/drive/MyDrive/Colab Notebooks/batches/X_T_lemmatized.pt\n"
          ]
        }
      ],
      "source": [
        "# no label since this is the prediction set\n",
        "series_test = torch.zeros((len(testing_tweets), max_tot, EMBEDDING_SIZE))\n",
        "series_test = modified_load_tweets(testing_tweets, series_test, max_tot)\n",
        "save_test(series_test)"
      ]
    },
    {
      "cell_type": "code",
      "execution_count": null,
      "metadata": {
        "id": "_sMjyluN21jS"
      },
      "outputs": [],
      "source": [
        "# test load a batch\n",
        "X_train_1 = torch.load(PREFIX+\"batches/X_train_cnn_new_1_full_lemmatized.pt\")"
      ]
    },
    {
      "cell_type": "code",
      "execution_count": null,
      "metadata": {
        "colab": {
          "base_uri": "https://localhost:8080/"
        },
        "id": "xawjM7053FFR",
        "outputId": "374a8d78-98e6-4116-974e-390db4186a3a"
      },
      "outputs": [
        {
          "name": "stdout",
          "output_type": "stream",
          "text": [
            "torch.Size([291648, 50, 20])\n"
          ]
        },
        {
          "data": {
            "text/plain": [
              "tensor([[[ 0.0000,  0.0000,  0.0000,  ...,  0.0000,  0.0000,  0.0000],\n",
              "         [ 0.0000,  0.0000,  0.0000,  ...,  0.0000,  0.0000,  0.0000],\n",
              "         [ 0.0000,  0.0000,  0.0000,  ...,  0.0000,  0.0000,  0.0000],\n",
              "         ...,\n",
              "         [ 0.0000,  0.0000,  0.0000,  ...,  0.0000,  0.0000,  0.0000],\n",
              "         [ 0.0000,  0.0000,  0.0000,  ...,  0.0000,  0.0000,  0.0000],\n",
              "         [ 0.0000,  0.0000,  0.0000,  ...,  0.0000,  0.0000,  0.0000]],\n",
              "\n",
              "        [[-0.3416, -0.1531, -0.5102,  ...,  0.0040,  0.4500, -0.1726],\n",
              "         [-0.3416, -0.1531, -0.5102,  ...,  0.0040,  0.4500, -0.1726],\n",
              "         [-0.3416, -0.1531, -0.5102,  ...,  0.0040,  0.4500, -0.1726],\n",
              "         ...,\n",
              "         [-0.3416, -0.1531, -0.5102,  ...,  0.0040,  0.4500, -0.1726],\n",
              "         [-0.3416, -0.1531, -0.5102,  ...,  0.0040,  0.4500, -0.1726],\n",
              "         [-0.3416, -0.1531, -0.5102,  ...,  0.0040,  0.4500, -0.1726]],\n",
              "\n",
              "        [[ 0.0000,  0.0000,  0.0000,  ...,  0.0000,  0.0000,  0.0000],\n",
              "         [ 0.0000,  0.0000,  0.0000,  ...,  0.0000,  0.0000,  0.0000],\n",
              "         [ 0.0000,  0.0000,  0.0000,  ...,  0.0000,  0.0000,  0.0000],\n",
              "         ...,\n",
              "         [ 0.0000,  0.0000,  0.0000,  ...,  0.0000,  0.0000,  0.0000],\n",
              "         [ 0.0000,  0.0000,  0.0000,  ...,  0.0000,  0.0000,  0.0000],\n",
              "         [ 0.0000,  0.0000,  0.0000,  ...,  0.0000,  0.0000,  0.0000]],\n",
              "\n",
              "        ...,\n",
              "\n",
              "        [[ 0.0000,  0.0000,  0.0000,  ...,  0.0000,  0.0000,  0.0000],\n",
              "         [ 0.0000,  0.0000,  0.0000,  ...,  0.0000,  0.0000,  0.0000],\n",
              "         [ 0.0000,  0.0000,  0.0000,  ...,  0.0000,  0.0000,  0.0000],\n",
              "         ...,\n",
              "         [ 0.0000,  0.0000,  0.0000,  ...,  0.0000,  0.0000,  0.0000],\n",
              "         [ 0.0000,  0.0000,  0.0000,  ...,  0.0000,  0.0000,  0.0000],\n",
              "         [ 0.0000,  0.0000,  0.0000,  ...,  0.0000,  0.0000,  0.0000]],\n",
              "\n",
              "        [[ 0.0000,  0.0000,  0.0000,  ...,  0.0000,  0.0000,  0.0000],\n",
              "         [ 0.0000,  0.0000,  0.0000,  ...,  0.0000,  0.0000,  0.0000],\n",
              "         [ 0.0000,  0.0000,  0.0000,  ...,  0.0000,  0.0000,  0.0000],\n",
              "         ...,\n",
              "         [ 0.0000,  0.0000,  0.0000,  ...,  0.0000,  0.0000,  0.0000],\n",
              "         [ 0.0000,  0.0000,  0.0000,  ...,  0.0000,  0.0000,  0.0000],\n",
              "         [ 0.0000,  0.0000,  0.0000,  ...,  0.0000,  0.0000,  0.0000]],\n",
              "\n",
              "        [[ 0.2784,  0.7167, -0.5298,  ...,  0.0594, -0.1438, -0.7447],\n",
              "         [ 0.2784,  0.7167, -0.5298,  ...,  0.0594, -0.1438, -0.7447],\n",
              "         [ 0.2784,  0.7167, -0.5298,  ...,  0.0594, -0.1438, -0.7447],\n",
              "         ...,\n",
              "         [ 0.2784,  0.7167, -0.5298,  ...,  0.0594, -0.1438, -0.7447],\n",
              "         [ 0.2784,  0.7167, -0.5298,  ...,  0.0594, -0.1438, -0.7447],\n",
              "         [ 0.2784,  0.7167, -0.5298,  ...,  0.0594, -0.1438, -0.7447]]])"
            ]
          },
          "execution_count": 20,
          "metadata": {},
          "output_type": "execute_result"
        }
      ],
      "source": [
        "print(X_train_1.shape)\n",
        "X_train_1"
      ]
    },
    {
      "cell_type": "code",
      "execution_count": null,
      "metadata": {
        "id": "MtP7fWHG3HmL"
      },
      "outputs": [],
      "source": []
    }
  ],
  "metadata": {
    "accelerator": "GPU",
    "colab": {
      "gpuType": "T4",
      "provenance": []
    },
    "kernelspec": {
      "display_name": "Python 3",
      "name": "python3"
    },
    "language_info": {
      "codemirror_mode": {
        "name": "ipython",
        "version": 3
      },
      "file_extension": ".py",
      "mimetype": "text/x-python",
      "name": "python",
      "nbconvert_exporter": "python",
      "pygments_lexer": "ipython3",
      "version": "3.11.6"
    }
  },
  "nbformat": 4,
  "nbformat_minor": 0
}
